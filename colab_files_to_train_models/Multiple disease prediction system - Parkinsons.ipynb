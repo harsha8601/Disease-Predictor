{
  "cells": [
    {
      "cell_type": "markdown",
      "id": "a06e219b",
      "metadata": {
        "papermill": {
          "duration": 0.028113,
          "end_time": "2023-07-10T05:29:29.409471",
          "exception": false,
          "start_time": "2023-07-10T05:29:29.381358",
          "status": "completed"
        },
        "tags": [],
        "id": "a06e219b"
      },
      "source": [
        "# __Table of Contents__\n",
        "\n",
        "<ol>\n",
        "    <li><a href=\"#Objectives\">Objectives</a></li>\n",
        "    <li>\n",
        "        <a href=\"#Setup\">Setup</a>\n",
        "        <ol>\n",
        "            <li><a href=\"#Installing-Required-Libraries\">Installing Required Libraries</a></li>\n",
        "        </ol>\n",
        "    </li>\n",
        "    <li>\n",
        "        <a href=\"#Parkinson Data and Voice Disorder\">Parkinson Data and Voice Disorder</a>\n",
        "    </li>\n",
        "    <li><a href=\"#Loading Data\">Loading Data</a></li>\n",
        "    <li><a href=\"#Data Preparation\">Data Preparation</a></li>\n",
        "    <li><a href=\"#Train and Test Random Forest\">Train and Test Random Forest Model</a></li>\n",
        "    <li><a href=\"#Visualizing the decision tree\">Find Strong Model</a></li>\n",
        "</ol>\n"
      ]
    },
    {
      "cell_type": "markdown",
      "id": "5819e9ba",
      "metadata": {
        "papermill": {
          "duration": 0.028551,
          "end_time": "2023-07-10T05:29:29.466618",
          "exception": false,
          "start_time": "2023-07-10T05:29:29.438067",
          "status": "completed"
        },
        "tags": [],
        "id": "5819e9ba"
      },
      "source": [
        "# Objectives\n",
        "\n",
        "The goal of this project is to create a machine learning model capable of accurately predicting the presence of Parkinson's disease in individuals based on their voice recordings. Parkinson's disease is a neurodegenerative condition that impairs movement, resulting in symptoms such as tremors, rigidity, and difficulties with coordination.\n",
        "\n"
      ]
    },
    {
      "cell_type": "markdown",
      "id": "8bdb378b",
      "metadata": {
        "papermill": {
          "duration": 0.027995,
          "end_time": "2023-07-10T05:29:29.523343",
          "exception": false,
          "start_time": "2023-07-10T05:29:29.495348",
          "status": "completed"
        },
        "tags": [],
        "id": "8bdb378b"
      },
      "source": [
        "----\n"
      ]
    },
    {
      "cell_type": "markdown",
      "id": "8e73597e",
      "metadata": {
        "papermill": {
          "duration": 0.027606,
          "end_time": "2023-07-10T05:29:29.578766",
          "exception": false,
          "start_time": "2023-07-10T05:29:29.551160",
          "status": "completed"
        },
        "tags": [],
        "id": "8e73597e"
      },
      "source": [
        "# Setup\n"
      ]
    },
    {
      "cell_type": "markdown",
      "id": "52f95274",
      "metadata": {
        "papermill": {
          "duration": 0.027826,
          "end_time": "2023-07-10T05:29:29.634245",
          "exception": false,
          "start_time": "2023-07-10T05:29:29.606419",
          "status": "completed"
        },
        "tags": [],
        "id": "52f95274"
      },
      "source": [
        "# Installing Required Libraries\n"
      ]
    },
    {
      "cell_type": "code",
      "execution_count": null,
      "id": "a49e5b97",
      "metadata": {
        "execution": {
          "iopub.execute_input": "2023-07-10T05:29:29.692287Z",
          "iopub.status.busy": "2023-07-10T05:29:29.691892Z",
          "iopub.status.idle": "2023-07-10T05:29:29.696935Z",
          "shell.execute_reply": "2023-07-10T05:29:29.695876Z"
        },
        "papermill": {
          "duration": 0.038343,
          "end_time": "2023-07-10T05:29:29.700713",
          "exception": false,
          "start_time": "2023-07-10T05:29:29.662370",
          "status": "completed"
        },
        "tags": [],
        "id": "a49e5b97"
      },
      "outputs": [],
      "source": [
        "#%%capture\n",
        "#!mamba install -- upgrade scikit-learn=1.2.1\n",
        "#!mamba install seaborn --y"
      ]
    },
    {
      "cell_type": "code",
      "execution_count": 1,
      "id": "7546aab8",
      "metadata": {
        "_kg_hide-output": true,
        "execution": {
          "iopub.execute_input": "2023-07-10T05:29:29.759069Z",
          "iopub.status.busy": "2023-07-10T05:29:29.758675Z",
          "iopub.status.idle": "2023-07-10T05:29:44.088853Z",
          "shell.execute_reply": "2023-07-10T05:29:44.087583Z"
        },
        "papermill": {
          "duration": 14.362531,
          "end_time": "2023-07-10T05:29:44.091459",
          "exception": false,
          "start_time": "2023-07-10T05:29:29.728928",
          "status": "completed"
        },
        "tags": [],
        "colab": {
          "base_uri": "https://localhost:8080/"
        },
        "id": "7546aab8",
        "outputId": "d3ae35dc-3558-4ca5-b270-beeafe247978"
      },
      "outputs": [
        {
          "output_type": "stream",
          "name": "stdout",
          "text": [
            "Collecting dtreeviz\n",
            "  Downloading dtreeviz-2.2.2-py3-none-any.whl (91 kB)\n",
            "\u001b[2K     \u001b[90m━━━━━━━━━━━━━━━━━━━━━━━━━━━━━━━━━━━━━━━━\u001b[0m \u001b[32m91.8/91.8 kB\u001b[0m \u001b[31m966.3 kB/s\u001b[0m eta \u001b[36m0:00:00\u001b[0m\n",
            "\u001b[?25hRequirement already satisfied: graphviz>=0.9 in /usr/local/lib/python3.10/dist-packages (from dtreeviz) (0.20.3)\n",
            "Requirement already satisfied: pandas in /usr/local/lib/python3.10/dist-packages (from dtreeviz) (2.0.3)\n",
            "Requirement already satisfied: numpy in /usr/local/lib/python3.10/dist-packages (from dtreeviz) (1.25.2)\n",
            "Requirement already satisfied: scikit-learn in /usr/local/lib/python3.10/dist-packages (from dtreeviz) (1.2.2)\n",
            "Requirement already satisfied: matplotlib in /usr/local/lib/python3.10/dist-packages (from dtreeviz) (3.7.1)\n",
            "Requirement already satisfied: colour in /usr/local/lib/python3.10/dist-packages (from dtreeviz) (0.1.5)\n",
            "Requirement already satisfied: pytest in /usr/local/lib/python3.10/dist-packages (from dtreeviz) (7.4.4)\n",
            "Requirement already satisfied: contourpy>=1.0.1 in /usr/local/lib/python3.10/dist-packages (from matplotlib->dtreeviz) (1.2.1)\n",
            "Requirement already satisfied: cycler>=0.10 in /usr/local/lib/python3.10/dist-packages (from matplotlib->dtreeviz) (0.12.1)\n",
            "Requirement already satisfied: fonttools>=4.22.0 in /usr/local/lib/python3.10/dist-packages (from matplotlib->dtreeviz) (4.53.0)\n",
            "Requirement already satisfied: kiwisolver>=1.0.1 in /usr/local/lib/python3.10/dist-packages (from matplotlib->dtreeviz) (1.4.5)\n",
            "Requirement already satisfied: packaging>=20.0 in /usr/local/lib/python3.10/dist-packages (from matplotlib->dtreeviz) (24.1)\n",
            "Requirement already satisfied: pillow>=6.2.0 in /usr/local/lib/python3.10/dist-packages (from matplotlib->dtreeviz) (9.4.0)\n",
            "Requirement already satisfied: pyparsing>=2.3.1 in /usr/local/lib/python3.10/dist-packages (from matplotlib->dtreeviz) (3.1.2)\n",
            "Requirement already satisfied: python-dateutil>=2.7 in /usr/local/lib/python3.10/dist-packages (from matplotlib->dtreeviz) (2.8.2)\n",
            "Requirement already satisfied: pytz>=2020.1 in /usr/local/lib/python3.10/dist-packages (from pandas->dtreeviz) (2023.4)\n",
            "Requirement already satisfied: tzdata>=2022.1 in /usr/local/lib/python3.10/dist-packages (from pandas->dtreeviz) (2024.1)\n",
            "Requirement already satisfied: iniconfig in /usr/local/lib/python3.10/dist-packages (from pytest->dtreeviz) (2.0.0)\n",
            "Requirement already satisfied: pluggy<2.0,>=0.12 in /usr/local/lib/python3.10/dist-packages (from pytest->dtreeviz) (1.5.0)\n",
            "Requirement already satisfied: exceptiongroup>=1.0.0rc8 in /usr/local/lib/python3.10/dist-packages (from pytest->dtreeviz) (1.2.1)\n",
            "Requirement already satisfied: tomli>=1.0.0 in /usr/local/lib/python3.10/dist-packages (from pytest->dtreeviz) (2.0.1)\n",
            "Requirement already satisfied: scipy>=1.3.2 in /usr/local/lib/python3.10/dist-packages (from scikit-learn->dtreeviz) (1.11.4)\n",
            "Requirement already satisfied: joblib>=1.1.1 in /usr/local/lib/python3.10/dist-packages (from scikit-learn->dtreeviz) (1.4.2)\n",
            "Requirement already satisfied: threadpoolctl>=2.0.0 in /usr/local/lib/python3.10/dist-packages (from scikit-learn->dtreeviz) (3.5.0)\n",
            "Requirement already satisfied: six>=1.5 in /usr/local/lib/python3.10/dist-packages (from python-dateutil>=2.7->matplotlib->dtreeviz) (1.16.0)\n",
            "Installing collected packages: dtreeviz\n",
            "Successfully installed dtreeviz-2.2.2\n"
          ]
        }
      ],
      "source": [
        "!pip install dtreeviz"
      ]
    },
    {
      "cell_type": "markdown",
      "id": "42817f0d",
      "metadata": {
        "papermill": {
          "duration": 0.028682,
          "end_time": "2023-07-10T05:29:44.148775",
          "exception": false,
          "start_time": "2023-07-10T05:29:44.120093",
          "status": "completed"
        },
        "tags": [],
        "id": "42817f0d"
      },
      "source": [
        "# Importing Required Libraries"
      ]
    },
    {
      "cell_type": "code",
      "execution_count": 2,
      "id": "def5eb75",
      "metadata": {
        "execution": {
          "iopub.execute_input": "2023-07-10T05:29:44.210665Z",
          "iopub.status.busy": "2023-07-10T05:29:44.209569Z",
          "iopub.status.idle": "2023-07-10T05:29:46.080129Z",
          "shell.execute_reply": "2023-07-10T05:29:46.079003Z"
        },
        "papermill": {
          "duration": 1.904568,
          "end_time": "2023-07-10T05:29:46.082977",
          "exception": false,
          "start_time": "2023-07-10T05:29:44.178409",
          "status": "completed"
        },
        "tags": [],
        "id": "def5eb75"
      },
      "outputs": [],
      "source": [
        "import numpy as np\n",
        "import pandas as pd\n",
        "import matplotlib.pyplot as plt\n",
        "import seaborn as sns\n",
        "%matplotlib inline\n",
        "from sklearn.metrics import accuracy_score\n",
        "from sklearn.model_selection import train_test_split\n",
        "from sklearn.preprocessing import StandardScaler\n",
        "\n",
        "\n",
        "# You can also use this section to suppress warnings generated by your code:\n",
        "def warn(*args, **kwargs):\n",
        "    pass\n",
        "import warnings\n",
        "warnings.warn = warn\n",
        "warnings.filterwarnings('ignore')\n"
      ]
    },
    {
      "cell_type": "markdown",
      "id": "d1afd5de",
      "metadata": {
        "papermill": {
          "duration": 0.029263,
          "end_time": "2023-07-10T05:29:46.141638",
          "exception": false,
          "start_time": "2023-07-10T05:29:46.112375",
          "status": "completed"
        },
        "tags": [],
        "id": "d1afd5de"
      },
      "source": [
        "## Creating helper function for plotting\n"
      ]
    },
    {
      "cell_type": "code",
      "execution_count": 3,
      "id": "80ae7ff2",
      "metadata": {
        "execution": {
          "iopub.execute_input": "2023-07-10T05:29:46.203482Z",
          "iopub.status.busy": "2023-07-10T05:29:46.202308Z",
          "iopub.status.idle": "2023-07-10T05:29:46.214607Z",
          "shell.execute_reply": "2023-07-10T05:29:46.213820Z"
        },
        "papermill": {
          "duration": 0.045424,
          "end_time": "2023-07-10T05:29:46.216785",
          "exception": false,
          "start_time": "2023-07-10T05:29:46.171361",
          "status": "completed"
        },
        "tags": [],
        "id": "80ae7ff2"
      },
      "outputs": [],
      "source": [
        "sns.set(style=\"whitegrid\", color_codes=True)\n",
        "import itertools\n",
        "\n",
        "def plot_confusion_matrix(cm, classes,\n",
        "                          normalize=False,\n",
        "                          title='Confusion matrix',\n",
        "                          cmap=plt.cm.Blues):\n",
        "    \"\"\"\n",
        "    This function prints and plots the confusion matrix.\n",
        "    Normalization can be applied by setting `normalize=True`.\n",
        "    \"\"\"\n",
        "    plt.imshow(cm, interpolation='nearest', cmap=cmap)\n",
        "    plt.title(title)\n",
        "    plt.colorbar()\n",
        "    tick_marks = np.arange(len(classes))\n",
        "    plt.xticks(tick_marks, classes, rotation=45)\n",
        "    plt.yticks(tick_marks, classes)\n",
        "\n",
        "    if normalize:\n",
        "        cm = cm.astype('float') / cm.sum(axis=1)[:, np.newaxis]\n",
        "        print(\"Normalized confusion matrix\")\n",
        "    else:\n",
        "        print('Confusion matrix, without normalization')\n",
        "\n",
        "    print(cm)\n",
        "\n",
        "    thresh = 3*cm.max()/4\n",
        "    for i, j in itertools.product(range(cm.shape[0]), range(cm.shape[1])):\n",
        "        plt.text(j, i, cm[i, j],\n",
        "                 horizontalalignment=\"center\",\n",
        "                 color=\"white\" if cm[i, j] > thresh else \"black\")\n",
        "\n",
        "    plt.tight_layout()\n",
        "    plt.ylabel('True label')\n",
        "    plt.xlabel('Predicted label')"
      ]
    },
    {
      "cell_type": "markdown",
      "id": "53910a7b",
      "metadata": {
        "papermill": {
          "duration": 0.029459,
          "end_time": "2023-07-10T05:29:46.334268",
          "exception": false,
          "start_time": "2023-07-10T05:29:46.304809",
          "status": "completed"
        },
        "tags": [],
        "id": "53910a7b"
      },
      "source": [
        "# Loading data\n"
      ]
    },
    {
      "cell_type": "code",
      "execution_count": 6,
      "id": "89875516",
      "metadata": {
        "execution": {
          "iopub.execute_input": "2023-07-10T05:29:46.395813Z",
          "iopub.status.busy": "2023-07-10T05:29:46.394804Z",
          "iopub.status.idle": "2023-07-10T05:29:46.470790Z",
          "shell.execute_reply": "2023-07-10T05:29:46.469481Z"
        },
        "papermill": {
          "duration": 0.109334,
          "end_time": "2023-07-10T05:29:46.473274",
          "exception": false,
          "start_time": "2023-07-10T05:29:46.363940",
          "status": "completed"
        },
        "tags": [],
        "colab": {
          "base_uri": "https://localhost:8080/",
          "height": 287
        },
        "id": "89875516",
        "outputId": "730313a2-37bf-4812-fae4-f963e4fb5bf0"
      },
      "outputs": [
        {
          "output_type": "execute_result",
          "data": {
            "text/plain": [
              "                MDVP:Fo(Hz)  MDVP:Fhi(Hz)  MDVP:Flo(Hz)  MDVP:Jitter(%)  \\\n",
              "name                                                                      \n",
              "phon_R01_S01_1      119.992       157.302        74.997         0.00784   \n",
              "phon_R01_S01_2      122.400       148.650       113.819         0.00968   \n",
              "phon_R01_S01_3      116.682       131.111       111.555         0.01050   \n",
              "phon_R01_S01_4      116.676       137.871       111.366         0.00997   \n",
              "phon_R01_S01_5      116.014       141.781       110.655         0.01284   \n",
              "\n",
              "                MDVP:Jitter(Abs)  MDVP:RAP  MDVP:PPQ  Jitter:DDP  \\\n",
              "name                                                               \n",
              "phon_R01_S01_1           0.00007   0.00370   0.00554     0.01109   \n",
              "phon_R01_S01_2           0.00008   0.00465   0.00696     0.01394   \n",
              "phon_R01_S01_3           0.00009   0.00544   0.00781     0.01633   \n",
              "phon_R01_S01_4           0.00009   0.00502   0.00698     0.01505   \n",
              "phon_R01_S01_5           0.00011   0.00655   0.00908     0.01966   \n",
              "\n",
              "                MDVP:Shimmer  MDVP:Shimmer(dB)  ...  Shimmer:DDA      NHR  \\\n",
              "name                                            ...                         \n",
              "phon_R01_S01_1       0.04374             0.426  ...      0.06545  0.02211   \n",
              "phon_R01_S01_2       0.06134             0.626  ...      0.09403  0.01929   \n",
              "phon_R01_S01_3       0.05233             0.482  ...      0.08270  0.01309   \n",
              "phon_R01_S01_4       0.05492             0.517  ...      0.08771  0.01353   \n",
              "phon_R01_S01_5       0.06425             0.584  ...      0.10470  0.01767   \n",
              "\n",
              "                   HNR  status      RPDE       DFA   spread1   spread2  \\\n",
              "name                                                                     \n",
              "phon_R01_S01_1  21.033       1  0.414783  0.815285 -4.813031  0.266482   \n",
              "phon_R01_S01_2  19.085       1  0.458359  0.819521 -4.075192  0.335590   \n",
              "phon_R01_S01_3  20.651       1  0.429895  0.825288 -4.443179  0.311173   \n",
              "phon_R01_S01_4  20.644       1  0.434969  0.819235 -4.117501  0.334147   \n",
              "phon_R01_S01_5  19.649       1  0.417356  0.823484 -3.747787  0.234513   \n",
              "\n",
              "                      D2       PPE  \n",
              "name                                \n",
              "phon_R01_S01_1  2.301442  0.284654  \n",
              "phon_R01_S01_2  2.486855  0.368674  \n",
              "phon_R01_S01_3  2.342259  0.332634  \n",
              "phon_R01_S01_4  2.405554  0.368975  \n",
              "phon_R01_S01_5  2.332180  0.410335  \n",
              "\n",
              "[5 rows x 23 columns]"
            ],
            "text/html": [
              "\n",
              "  <div id=\"df-1c12ab1e-0614-46cd-b9f1-298ffde6b1ef\" class=\"colab-df-container\">\n",
              "    <div>\n",
              "<style scoped>\n",
              "    .dataframe tbody tr th:only-of-type {\n",
              "        vertical-align: middle;\n",
              "    }\n",
              "\n",
              "    .dataframe tbody tr th {\n",
              "        vertical-align: top;\n",
              "    }\n",
              "\n",
              "    .dataframe thead th {\n",
              "        text-align: right;\n",
              "    }\n",
              "</style>\n",
              "<table border=\"1\" class=\"dataframe\">\n",
              "  <thead>\n",
              "    <tr style=\"text-align: right;\">\n",
              "      <th></th>\n",
              "      <th>MDVP:Fo(Hz)</th>\n",
              "      <th>MDVP:Fhi(Hz)</th>\n",
              "      <th>MDVP:Flo(Hz)</th>\n",
              "      <th>MDVP:Jitter(%)</th>\n",
              "      <th>MDVP:Jitter(Abs)</th>\n",
              "      <th>MDVP:RAP</th>\n",
              "      <th>MDVP:PPQ</th>\n",
              "      <th>Jitter:DDP</th>\n",
              "      <th>MDVP:Shimmer</th>\n",
              "      <th>MDVP:Shimmer(dB)</th>\n",
              "      <th>...</th>\n",
              "      <th>Shimmer:DDA</th>\n",
              "      <th>NHR</th>\n",
              "      <th>HNR</th>\n",
              "      <th>status</th>\n",
              "      <th>RPDE</th>\n",
              "      <th>DFA</th>\n",
              "      <th>spread1</th>\n",
              "      <th>spread2</th>\n",
              "      <th>D2</th>\n",
              "      <th>PPE</th>\n",
              "    </tr>\n",
              "    <tr>\n",
              "      <th>name</th>\n",
              "      <th></th>\n",
              "      <th></th>\n",
              "      <th></th>\n",
              "      <th></th>\n",
              "      <th></th>\n",
              "      <th></th>\n",
              "      <th></th>\n",
              "      <th></th>\n",
              "      <th></th>\n",
              "      <th></th>\n",
              "      <th></th>\n",
              "      <th></th>\n",
              "      <th></th>\n",
              "      <th></th>\n",
              "      <th></th>\n",
              "      <th></th>\n",
              "      <th></th>\n",
              "      <th></th>\n",
              "      <th></th>\n",
              "      <th></th>\n",
              "      <th></th>\n",
              "    </tr>\n",
              "  </thead>\n",
              "  <tbody>\n",
              "    <tr>\n",
              "      <th>phon_R01_S01_1</th>\n",
              "      <td>119.992</td>\n",
              "      <td>157.302</td>\n",
              "      <td>74.997</td>\n",
              "      <td>0.00784</td>\n",
              "      <td>0.00007</td>\n",
              "      <td>0.00370</td>\n",
              "      <td>0.00554</td>\n",
              "      <td>0.01109</td>\n",
              "      <td>0.04374</td>\n",
              "      <td>0.426</td>\n",
              "      <td>...</td>\n",
              "      <td>0.06545</td>\n",
              "      <td>0.02211</td>\n",
              "      <td>21.033</td>\n",
              "      <td>1</td>\n",
              "      <td>0.414783</td>\n",
              "      <td>0.815285</td>\n",
              "      <td>-4.813031</td>\n",
              "      <td>0.266482</td>\n",
              "      <td>2.301442</td>\n",
              "      <td>0.284654</td>\n",
              "    </tr>\n",
              "    <tr>\n",
              "      <th>phon_R01_S01_2</th>\n",
              "      <td>122.400</td>\n",
              "      <td>148.650</td>\n",
              "      <td>113.819</td>\n",
              "      <td>0.00968</td>\n",
              "      <td>0.00008</td>\n",
              "      <td>0.00465</td>\n",
              "      <td>0.00696</td>\n",
              "      <td>0.01394</td>\n",
              "      <td>0.06134</td>\n",
              "      <td>0.626</td>\n",
              "      <td>...</td>\n",
              "      <td>0.09403</td>\n",
              "      <td>0.01929</td>\n",
              "      <td>19.085</td>\n",
              "      <td>1</td>\n",
              "      <td>0.458359</td>\n",
              "      <td>0.819521</td>\n",
              "      <td>-4.075192</td>\n",
              "      <td>0.335590</td>\n",
              "      <td>2.486855</td>\n",
              "      <td>0.368674</td>\n",
              "    </tr>\n",
              "    <tr>\n",
              "      <th>phon_R01_S01_3</th>\n",
              "      <td>116.682</td>\n",
              "      <td>131.111</td>\n",
              "      <td>111.555</td>\n",
              "      <td>0.01050</td>\n",
              "      <td>0.00009</td>\n",
              "      <td>0.00544</td>\n",
              "      <td>0.00781</td>\n",
              "      <td>0.01633</td>\n",
              "      <td>0.05233</td>\n",
              "      <td>0.482</td>\n",
              "      <td>...</td>\n",
              "      <td>0.08270</td>\n",
              "      <td>0.01309</td>\n",
              "      <td>20.651</td>\n",
              "      <td>1</td>\n",
              "      <td>0.429895</td>\n",
              "      <td>0.825288</td>\n",
              "      <td>-4.443179</td>\n",
              "      <td>0.311173</td>\n",
              "      <td>2.342259</td>\n",
              "      <td>0.332634</td>\n",
              "    </tr>\n",
              "    <tr>\n",
              "      <th>phon_R01_S01_4</th>\n",
              "      <td>116.676</td>\n",
              "      <td>137.871</td>\n",
              "      <td>111.366</td>\n",
              "      <td>0.00997</td>\n",
              "      <td>0.00009</td>\n",
              "      <td>0.00502</td>\n",
              "      <td>0.00698</td>\n",
              "      <td>0.01505</td>\n",
              "      <td>0.05492</td>\n",
              "      <td>0.517</td>\n",
              "      <td>...</td>\n",
              "      <td>0.08771</td>\n",
              "      <td>0.01353</td>\n",
              "      <td>20.644</td>\n",
              "      <td>1</td>\n",
              "      <td>0.434969</td>\n",
              "      <td>0.819235</td>\n",
              "      <td>-4.117501</td>\n",
              "      <td>0.334147</td>\n",
              "      <td>2.405554</td>\n",
              "      <td>0.368975</td>\n",
              "    </tr>\n",
              "    <tr>\n",
              "      <th>phon_R01_S01_5</th>\n",
              "      <td>116.014</td>\n",
              "      <td>141.781</td>\n",
              "      <td>110.655</td>\n",
              "      <td>0.01284</td>\n",
              "      <td>0.00011</td>\n",
              "      <td>0.00655</td>\n",
              "      <td>0.00908</td>\n",
              "      <td>0.01966</td>\n",
              "      <td>0.06425</td>\n",
              "      <td>0.584</td>\n",
              "      <td>...</td>\n",
              "      <td>0.10470</td>\n",
              "      <td>0.01767</td>\n",
              "      <td>19.649</td>\n",
              "      <td>1</td>\n",
              "      <td>0.417356</td>\n",
              "      <td>0.823484</td>\n",
              "      <td>-3.747787</td>\n",
              "      <td>0.234513</td>\n",
              "      <td>2.332180</td>\n",
              "      <td>0.410335</td>\n",
              "    </tr>\n",
              "  </tbody>\n",
              "</table>\n",
              "<p>5 rows × 23 columns</p>\n",
              "</div>\n",
              "    <div class=\"colab-df-buttons\">\n",
              "\n",
              "  <div class=\"colab-df-container\">\n",
              "    <button class=\"colab-df-convert\" onclick=\"convertToInteractive('df-1c12ab1e-0614-46cd-b9f1-298ffde6b1ef')\"\n",
              "            title=\"Convert this dataframe to an interactive table.\"\n",
              "            style=\"display:none;\">\n",
              "\n",
              "  <svg xmlns=\"http://www.w3.org/2000/svg\" height=\"24px\" viewBox=\"0 -960 960 960\">\n",
              "    <path d=\"M120-120v-720h720v720H120Zm60-500h600v-160H180v160Zm220 220h160v-160H400v160Zm0 220h160v-160H400v160ZM180-400h160v-160H180v160Zm440 0h160v-160H620v160ZM180-180h160v-160H180v160Zm440 0h160v-160H620v160Z\"/>\n",
              "  </svg>\n",
              "    </button>\n",
              "\n",
              "  <style>\n",
              "    .colab-df-container {\n",
              "      display:flex;\n",
              "      gap: 12px;\n",
              "    }\n",
              "\n",
              "    .colab-df-convert {\n",
              "      background-color: #E8F0FE;\n",
              "      border: none;\n",
              "      border-radius: 50%;\n",
              "      cursor: pointer;\n",
              "      display: none;\n",
              "      fill: #1967D2;\n",
              "      height: 32px;\n",
              "      padding: 0 0 0 0;\n",
              "      width: 32px;\n",
              "    }\n",
              "\n",
              "    .colab-df-convert:hover {\n",
              "      background-color: #E2EBFA;\n",
              "      box-shadow: 0px 1px 2px rgba(60, 64, 67, 0.3), 0px 1px 3px 1px rgba(60, 64, 67, 0.15);\n",
              "      fill: #174EA6;\n",
              "    }\n",
              "\n",
              "    .colab-df-buttons div {\n",
              "      margin-bottom: 4px;\n",
              "    }\n",
              "\n",
              "    [theme=dark] .colab-df-convert {\n",
              "      background-color: #3B4455;\n",
              "      fill: #D2E3FC;\n",
              "    }\n",
              "\n",
              "    [theme=dark] .colab-df-convert:hover {\n",
              "      background-color: #434B5C;\n",
              "      box-shadow: 0px 1px 3px 1px rgba(0, 0, 0, 0.15);\n",
              "      filter: drop-shadow(0px 1px 2px rgba(0, 0, 0, 0.3));\n",
              "      fill: #FFFFFF;\n",
              "    }\n",
              "  </style>\n",
              "\n",
              "    <script>\n",
              "      const buttonEl =\n",
              "        document.querySelector('#df-1c12ab1e-0614-46cd-b9f1-298ffde6b1ef button.colab-df-convert');\n",
              "      buttonEl.style.display =\n",
              "        google.colab.kernel.accessAllowed ? 'block' : 'none';\n",
              "\n",
              "      async function convertToInteractive(key) {\n",
              "        const element = document.querySelector('#df-1c12ab1e-0614-46cd-b9f1-298ffde6b1ef');\n",
              "        const dataTable =\n",
              "          await google.colab.kernel.invokeFunction('convertToInteractive',\n",
              "                                                    [key], {});\n",
              "        if (!dataTable) return;\n",
              "\n",
              "        const docLinkHtml = 'Like what you see? Visit the ' +\n",
              "          '<a target=\"_blank\" href=https://colab.research.google.com/notebooks/data_table.ipynb>data table notebook</a>'\n",
              "          + ' to learn more about interactive tables.';\n",
              "        element.innerHTML = '';\n",
              "        dataTable['output_type'] = 'display_data';\n",
              "        await google.colab.output.renderOutput(dataTable, element);\n",
              "        const docLink = document.createElement('div');\n",
              "        docLink.innerHTML = docLinkHtml;\n",
              "        element.appendChild(docLink);\n",
              "      }\n",
              "    </script>\n",
              "  </div>\n",
              "\n",
              "\n",
              "<div id=\"df-ede8f5ae-060d-4bdf-99e7-d9c1cb71c6be\">\n",
              "  <button class=\"colab-df-quickchart\" onclick=\"quickchart('df-ede8f5ae-060d-4bdf-99e7-d9c1cb71c6be')\"\n",
              "            title=\"Suggest charts\"\n",
              "            style=\"display:none;\">\n",
              "\n",
              "<svg xmlns=\"http://www.w3.org/2000/svg\" height=\"24px\"viewBox=\"0 0 24 24\"\n",
              "     width=\"24px\">\n",
              "    <g>\n",
              "        <path d=\"M19 3H5c-1.1 0-2 .9-2 2v14c0 1.1.9 2 2 2h14c1.1 0 2-.9 2-2V5c0-1.1-.9-2-2-2zM9 17H7v-7h2v7zm4 0h-2V7h2v10zm4 0h-2v-4h2v4z\"/>\n",
              "    </g>\n",
              "</svg>\n",
              "  </button>\n",
              "\n",
              "<style>\n",
              "  .colab-df-quickchart {\n",
              "      --bg-color: #E8F0FE;\n",
              "      --fill-color: #1967D2;\n",
              "      --hover-bg-color: #E2EBFA;\n",
              "      --hover-fill-color: #174EA6;\n",
              "      --disabled-fill-color: #AAA;\n",
              "      --disabled-bg-color: #DDD;\n",
              "  }\n",
              "\n",
              "  [theme=dark] .colab-df-quickchart {\n",
              "      --bg-color: #3B4455;\n",
              "      --fill-color: #D2E3FC;\n",
              "      --hover-bg-color: #434B5C;\n",
              "      --hover-fill-color: #FFFFFF;\n",
              "      --disabled-bg-color: #3B4455;\n",
              "      --disabled-fill-color: #666;\n",
              "  }\n",
              "\n",
              "  .colab-df-quickchart {\n",
              "    background-color: var(--bg-color);\n",
              "    border: none;\n",
              "    border-radius: 50%;\n",
              "    cursor: pointer;\n",
              "    display: none;\n",
              "    fill: var(--fill-color);\n",
              "    height: 32px;\n",
              "    padding: 0;\n",
              "    width: 32px;\n",
              "  }\n",
              "\n",
              "  .colab-df-quickchart:hover {\n",
              "    background-color: var(--hover-bg-color);\n",
              "    box-shadow: 0 1px 2px rgba(60, 64, 67, 0.3), 0 1px 3px 1px rgba(60, 64, 67, 0.15);\n",
              "    fill: var(--button-hover-fill-color);\n",
              "  }\n",
              "\n",
              "  .colab-df-quickchart-complete:disabled,\n",
              "  .colab-df-quickchart-complete:disabled:hover {\n",
              "    background-color: var(--disabled-bg-color);\n",
              "    fill: var(--disabled-fill-color);\n",
              "    box-shadow: none;\n",
              "  }\n",
              "\n",
              "  .colab-df-spinner {\n",
              "    border: 2px solid var(--fill-color);\n",
              "    border-color: transparent;\n",
              "    border-bottom-color: var(--fill-color);\n",
              "    animation:\n",
              "      spin 1s steps(1) infinite;\n",
              "  }\n",
              "\n",
              "  @keyframes spin {\n",
              "    0% {\n",
              "      border-color: transparent;\n",
              "      border-bottom-color: var(--fill-color);\n",
              "      border-left-color: var(--fill-color);\n",
              "    }\n",
              "    20% {\n",
              "      border-color: transparent;\n",
              "      border-left-color: var(--fill-color);\n",
              "      border-top-color: var(--fill-color);\n",
              "    }\n",
              "    30% {\n",
              "      border-color: transparent;\n",
              "      border-left-color: var(--fill-color);\n",
              "      border-top-color: var(--fill-color);\n",
              "      border-right-color: var(--fill-color);\n",
              "    }\n",
              "    40% {\n",
              "      border-color: transparent;\n",
              "      border-right-color: var(--fill-color);\n",
              "      border-top-color: var(--fill-color);\n",
              "    }\n",
              "    60% {\n",
              "      border-color: transparent;\n",
              "      border-right-color: var(--fill-color);\n",
              "    }\n",
              "    80% {\n",
              "      border-color: transparent;\n",
              "      border-right-color: var(--fill-color);\n",
              "      border-bottom-color: var(--fill-color);\n",
              "    }\n",
              "    90% {\n",
              "      border-color: transparent;\n",
              "      border-bottom-color: var(--fill-color);\n",
              "    }\n",
              "  }\n",
              "</style>\n",
              "\n",
              "  <script>\n",
              "    async function quickchart(key) {\n",
              "      const quickchartButtonEl =\n",
              "        document.querySelector('#' + key + ' button');\n",
              "      quickchartButtonEl.disabled = true;  // To prevent multiple clicks.\n",
              "      quickchartButtonEl.classList.add('colab-df-spinner');\n",
              "      try {\n",
              "        const charts = await google.colab.kernel.invokeFunction(\n",
              "            'suggestCharts', [key], {});\n",
              "      } catch (error) {\n",
              "        console.error('Error during call to suggestCharts:', error);\n",
              "      }\n",
              "      quickchartButtonEl.classList.remove('colab-df-spinner');\n",
              "      quickchartButtonEl.classList.add('colab-df-quickchart-complete');\n",
              "    }\n",
              "    (() => {\n",
              "      let quickchartButtonEl =\n",
              "        document.querySelector('#df-ede8f5ae-060d-4bdf-99e7-d9c1cb71c6be button');\n",
              "      quickchartButtonEl.style.display =\n",
              "        google.colab.kernel.accessAllowed ? 'block' : 'none';\n",
              "    })();\n",
              "  </script>\n",
              "</div>\n",
              "\n",
              "    </div>\n",
              "  </div>\n"
            ],
            "application/vnd.google.colaboratory.intrinsic+json": {
              "type": "dataframe",
              "variable_name": "data"
            }
          },
          "metadata": {},
          "execution_count": 6
        }
      ],
      "source": [
        "data = pd.read_csv(\"parkinsons.csv\", sep=',', index_col='name') # assign index column to name\n",
        "data.head()"
      ]
    },
    {
      "cell_type": "markdown",
      "id": "65823495",
      "metadata": {
        "papermill": {
          "duration": 0.0302,
          "end_time": "2023-07-10T05:29:46.534597",
          "exception": false,
          "start_time": "2023-07-10T05:29:46.504397",
          "status": "completed"
        },
        "tags": [],
        "id": "65823495"
      },
      "source": [
        "## we can see the number of samples\n"
      ]
    },
    {
      "cell_type": "code",
      "execution_count": 7,
      "id": "1923eb15",
      "metadata": {
        "execution": {
          "iopub.execute_input": "2023-07-10T05:29:46.595510Z",
          "iopub.status.busy": "2023-07-10T05:29:46.595137Z",
          "iopub.status.idle": "2023-07-10T05:29:46.600537Z",
          "shell.execute_reply": "2023-07-10T05:29:46.599520Z"
        },
        "papermill": {
          "duration": 0.038421,
          "end_time": "2023-07-10T05:29:46.603057",
          "exception": false,
          "start_time": "2023-07-10T05:29:46.564636",
          "status": "completed"
        },
        "tags": [],
        "colab": {
          "base_uri": "https://localhost:8080/"
        },
        "id": "1923eb15",
        "outputId": "4b3b209a-851c-4d4a-9e12-85126761b936"
      },
      "outputs": [
        {
          "output_type": "stream",
          "name": "stdout",
          "text": [
            "(195, 23)\n"
          ]
        }
      ],
      "source": [
        "print(data.shape)"
      ]
    },
    {
      "cell_type": "markdown",
      "id": "32e37b6d",
      "metadata": {
        "papermill": {
          "duration": 0.029328,
          "end_time": "2023-07-10T05:29:46.662145",
          "exception": false,
          "start_time": "2023-07-10T05:29:46.632817",
          "status": "completed"
        },
        "tags": [],
        "id": "32e37b6d"
      },
      "source": [
        "## To improve our understanding of the variables involved in parkinson detection, we first need to analyze the relationships within the data. Correlation diagrams can be helpful in visualizing how different variables are associated with each other and with parkinson status. Additionally, random forest models can help identify the importance of different features in predicting the target variable (parkinson).\n"
      ]
    },
    {
      "cell_type": "code",
      "execution_count": 9,
      "id": "fc94be48",
      "metadata": {
        "execution": {
          "iopub.execute_input": "2023-07-10T05:29:46.722890Z",
          "iopub.status.busy": "2023-07-10T05:29:46.722491Z",
          "iopub.status.idle": "2023-07-10T05:29:47.774352Z",
          "shell.execute_reply": "2023-07-10T05:29:47.773543Z"
        },
        "papermill": {
          "duration": 1.085254,
          "end_time": "2023-07-10T05:29:47.776659",
          "exception": false,
          "start_time": "2023-07-10T05:29:46.691405",
          "status": "completed"
        },
        "tags": [],
        "colab": {
          "base_uri": "https://localhost:8080/",
          "height": 993
        },
        "id": "fc94be48",
        "outputId": "c1a5cdd7-3818-47c4-edaa-11500dd902c2"
      },
      "outputs": [
        {
          "output_type": "execute_result",
          "data": {
            "text/plain": [
              "<Axes: >"
            ]
          },
          "metadata": {},
          "execution_count": 9
        },
        {
          "output_type": "display_data",
          "data": {
            "text/plain": [
              "<Figure size 1200x1000 with 2 Axes>"
            ],
            "image/png": "[encoded data removed]"
          },
          "metadata": {}
        }
      ],
      "source": [
        "# creating the correlation matrix\n",
        "plt.figure(figsize=(12, 10))\n",
        "mask = np.triu(np.ones_like(data.corr(), dtype=np.bool_))\n",
        "sns.heatmap(data.corr(),vmin=-1, vmax=1,cmap='BrBG', mask=mask)"
      ]
    },
    {
      "cell_type": "code",
      "execution_count": 10,
      "id": "30103e54",
      "metadata": {
        "execution": {
          "iopub.execute_input": "2023-07-10T05:29:47.843349Z",
          "iopub.status.busy": "2023-07-10T05:29:47.842564Z",
          "iopub.status.idle": "2023-07-10T05:29:48.574963Z",
          "shell.execute_reply": "2023-07-10T05:29:48.573929Z"
        },
        "papermill": {
          "duration": 0.767963,
          "end_time": "2023-07-10T05:29:48.577334",
          "exception": false,
          "start_time": "2023-07-10T05:29:47.809371",
          "status": "completed"
        },
        "tags": [],
        "colab": {
          "base_uri": "https://localhost:8080/",
          "height": 876
        },
        "id": "30103e54",
        "outputId": "e8d1bd09-bd31-4bdd-8575-281a543842ec"
      },
      "outputs": [
        {
          "output_type": "display_data",
          "data": {
            "text/plain": [
              "<Figure size 1000x1000 with 2 Axes>"
            ],
            "image/png": "[encoded data removed]"
          },
          "metadata": {}
        }
      ],
      "source": [
        "# modify the headmap plot to show correlation variables to the status\n",
        "plt.figure(figsize=(10, 10))\n",
        "heatmap = sns.heatmap(data.corr()[['status']].sort_values(by='status', ascending=False), vmin=-1, vmax=1, annot=True, cmap='BrBG')\n",
        "heatmap.set_title('Features Correlating with Parkinson existance', fontdict={'fontsize':18}, pad=16);"
      ]
    },
    {
      "cell_type": "markdown",
      "id": "553f3475",
      "metadata": {
        "papermill": {
          "duration": 0.034091,
          "end_time": "2023-07-10T05:29:48.645123",
          "exception": false,
          "start_time": "2023-07-10T05:29:48.611032",
          "status": "completed"
        },
        "tags": [],
        "id": "553f3475"
      },
      "source": [
        "## Let's get the  features we select all columns in the dataset except for the `status` column. This is done using the ```drop``` method, which returns a new DataFrame with the specified columns (in this case, 'status') removed. The `axis=1` argument indicates that we're dropping a column, not a row.\n"
      ]
    },
    {
      "cell_type": "code",
      "execution_count": 11,
      "id": "22ef2f6f",
      "metadata": {
        "execution": {
          "iopub.execute_input": "2023-07-10T05:29:48.716131Z",
          "iopub.status.busy": "2023-07-10T05:29:48.715705Z",
          "iopub.status.idle": "2023-07-10T05:29:48.745803Z",
          "shell.execute_reply": "2023-07-10T05:29:48.744575Z"
        },
        "papermill": {
          "duration": 0.068822,
          "end_time": "2023-07-10T05:29:48.748157",
          "exception": false,
          "start_time": "2023-07-10T05:29:48.679335",
          "status": "completed"
        },
        "tags": [],
        "colab": {
          "base_uri": "https://localhost:8080/",
          "height": 287
        },
        "id": "22ef2f6f",
        "outputId": "fcc8ea6e-0b6d-4e15-9392-f5703ff88a98"
      },
      "outputs": [
        {
          "output_type": "execute_result",
          "data": {
            "text/plain": [
              "                MDVP:Fo(Hz)  MDVP:Fhi(Hz)  MDVP:Flo(Hz)  MDVP:Jitter(%)  \\\n",
              "name                                                                      \n",
              "phon_R01_S01_1      119.992       157.302        74.997         0.00784   \n",
              "phon_R01_S01_2      122.400       148.650       113.819         0.00968   \n",
              "phon_R01_S01_3      116.682       131.111       111.555         0.01050   \n",
              "phon_R01_S01_4      116.676       137.871       111.366         0.00997   \n",
              "phon_R01_S01_5      116.014       141.781       110.655         0.01284   \n",
              "\n",
              "                MDVP:Jitter(Abs)  MDVP:RAP  MDVP:PPQ  Jitter:DDP  \\\n",
              "name                                                               \n",
              "phon_R01_S01_1           0.00007   0.00370   0.00554     0.01109   \n",
              "phon_R01_S01_2           0.00008   0.00465   0.00696     0.01394   \n",
              "phon_R01_S01_3           0.00009   0.00544   0.00781     0.01633   \n",
              "phon_R01_S01_4           0.00009   0.00502   0.00698     0.01505   \n",
              "phon_R01_S01_5           0.00011   0.00655   0.00908     0.01966   \n",
              "\n",
              "                MDVP:Shimmer  MDVP:Shimmer(dB)  ...  MDVP:APQ  Shimmer:DDA  \\\n",
              "name                                            ...                          \n",
              "phon_R01_S01_1       0.04374             0.426  ...   0.02971      0.06545   \n",
              "phon_R01_S01_2       0.06134             0.626  ...   0.04368      0.09403   \n",
              "phon_R01_S01_3       0.05233             0.482  ...   0.03590      0.08270   \n",
              "phon_R01_S01_4       0.05492             0.517  ...   0.03772      0.08771   \n",
              "phon_R01_S01_5       0.06425             0.584  ...   0.04465      0.10470   \n",
              "\n",
              "                    NHR     HNR      RPDE       DFA   spread1   spread2  \\\n",
              "name                                                                      \n",
              "phon_R01_S01_1  0.02211  21.033  0.414783  0.815285 -4.813031  0.266482   \n",
              "phon_R01_S01_2  0.01929  19.085  0.458359  0.819521 -4.075192  0.335590   \n",
              "phon_R01_S01_3  0.01309  20.651  0.429895  0.825288 -4.443179  0.311173   \n",
              "phon_R01_S01_4  0.01353  20.644  0.434969  0.819235 -4.117501  0.334147   \n",
              "phon_R01_S01_5  0.01767  19.649  0.417356  0.823484 -3.747787  0.234513   \n",
              "\n",
              "                      D2       PPE  \n",
              "name                                \n",
              "phon_R01_S01_1  2.301442  0.284654  \n",
              "phon_R01_S01_2  2.486855  0.368674  \n",
              "phon_R01_S01_3  2.342259  0.332634  \n",
              "phon_R01_S01_4  2.405554  0.368975  \n",
              "phon_R01_S01_5  2.332180  0.410335  \n",
              "\n",
              "[5 rows x 22 columns]"
            ],
            "text/html": [
              "\n",
              "  <div id=\"df-1f3f0a2d-4f4f-4ce9-a199-ce40ea2b09b9\" class=\"colab-df-container\">\n",
              "    <div>\n",
              "<style scoped>\n",
              "    .dataframe tbody tr th:only-of-type {\n",
              "        vertical-align: middle;\n",
              "    }\n",
              "\n",
              "    .dataframe tbody tr th {\n",
              "        vertical-align: top;\n",
              "    }\n",
              "\n",
              "    .dataframe thead th {\n",
              "        text-align: right;\n",
              "    }\n",
              "</style>\n",
              "<table border=\"1\" class=\"dataframe\">\n",
              "  <thead>\n",
              "    <tr style=\"text-align: right;\">\n",
              "      <th></th>\n",
              "      <th>MDVP:Fo(Hz)</th>\n",
              "      <th>MDVP:Fhi(Hz)</th>\n",
              "      <th>MDVP:Flo(Hz)</th>\n",
              "      <th>MDVP:Jitter(%)</th>\n",
              "      <th>MDVP:Jitter(Abs)</th>\n",
              "      <th>MDVP:RAP</th>\n",
              "      <th>MDVP:PPQ</th>\n",
              "      <th>Jitter:DDP</th>\n",
              "      <th>MDVP:Shimmer</th>\n",
              "      <th>MDVP:Shimmer(dB)</th>\n",
              "      <th>...</th>\n",
              "      <th>MDVP:APQ</th>\n",
              "      <th>Shimmer:DDA</th>\n",
              "      <th>NHR</th>\n",
              "      <th>HNR</th>\n",
              "      <th>RPDE</th>\n",
              "      <th>DFA</th>\n",
              "      <th>spread1</th>\n",
              "      <th>spread2</th>\n",
              "      <th>D2</th>\n",
              "      <th>PPE</th>\n",
              "    </tr>\n",
              "    <tr>\n",
              "      <th>name</th>\n",
              "      <th></th>\n",
              "      <th></th>\n",
              "      <th></th>\n",
              "      <th></th>\n",
              "      <th></th>\n",
              "      <th></th>\n",
              "      <th></th>\n",
              "      <th></th>\n",
              "      <th></th>\n",
              "      <th></th>\n",
              "      <th></th>\n",
              "      <th></th>\n",
              "      <th></th>\n",
              "      <th></th>\n",
              "      <th></th>\n",
              "      <th></th>\n",
              "      <th></th>\n",
              "      <th></th>\n",
              "      <th></th>\n",
              "      <th></th>\n",
              "      <th></th>\n",
              "    </tr>\n",
              "  </thead>\n",
              "  <tbody>\n",
              "    <tr>\n",
              "      <th>phon_R01_S01_1</th>\n",
              "      <td>119.992</td>\n",
              "      <td>157.302</td>\n",
              "      <td>74.997</td>\n",
              "      <td>0.00784</td>\n",
              "      <td>0.00007</td>\n",
              "      <td>0.00370</td>\n",
              "      <td>0.00554</td>\n",
              "      <td>0.01109</td>\n",
              "      <td>0.04374</td>\n",
              "      <td>0.426</td>\n",
              "      <td>...</td>\n",
              "      <td>0.02971</td>\n",
              "      <td>0.06545</td>\n",
              "      <td>0.02211</td>\n",
              "      <td>21.033</td>\n",
              "      <td>0.414783</td>\n",
              "      <td>0.815285</td>\n",
              "      <td>-4.813031</td>\n",
              "      <td>0.266482</td>\n",
              "      <td>2.301442</td>\n",
              "      <td>0.284654</td>\n",
              "    </tr>\n",
              "    <tr>\n",
              "      <th>phon_R01_S01_2</th>\n",
              "      <td>122.400</td>\n",
              "      <td>148.650</td>\n",
              "      <td>113.819</td>\n",
              "      <td>0.00968</td>\n",
              "      <td>0.00008</td>\n",
              "      <td>0.00465</td>\n",
              "      <td>0.00696</td>\n",
              "      <td>0.01394</td>\n",
              "      <td>0.06134</td>\n",
              "      <td>0.626</td>\n",
              "      <td>...</td>\n",
              "      <td>0.04368</td>\n",
              "      <td>0.09403</td>\n",
              "      <td>0.01929</td>\n",
              "      <td>19.085</td>\n",
              "      <td>0.458359</td>\n",
              "      <td>0.819521</td>\n",
              "      <td>-4.075192</td>\n",
              "      <td>0.335590</td>\n",
              "      <td>2.486855</td>\n",
              "      <td>0.368674</td>\n",
              "    </tr>\n",
              "    <tr>\n",
              "      <th>phon_R01_S01_3</th>\n",
              "      <td>116.682</td>\n",
              "      <td>131.111</td>\n",
              "      <td>111.555</td>\n",
              "      <td>0.01050</td>\n",
              "      <td>0.00009</td>\n",
              "      <td>0.00544</td>\n",
              "      <td>0.00781</td>\n",
              "      <td>0.01633</td>\n",
              "      <td>0.05233</td>\n",
              "      <td>0.482</td>\n",
              "      <td>...</td>\n",
              "      <td>0.03590</td>\n",
              "      <td>0.08270</td>\n",
              "      <td>0.01309</td>\n",
              "      <td>20.651</td>\n",
              "      <td>0.429895</td>\n",
              "      <td>0.825288</td>\n",
              "      <td>-4.443179</td>\n",
              "      <td>0.311173</td>\n",
              "      <td>2.342259</td>\n",
              "      <td>0.332634</td>\n",
              "    </tr>\n",
              "    <tr>\n",
              "      <th>phon_R01_S01_4</th>\n",
              "      <td>116.676</td>\n",
              "      <td>137.871</td>\n",
              "      <td>111.366</td>\n",
              "      <td>0.00997</td>\n",
              "      <td>0.00009</td>\n",
              "      <td>0.00502</td>\n",
              "      <td>0.00698</td>\n",
              "      <td>0.01505</td>\n",
              "      <td>0.05492</td>\n",
              "      <td>0.517</td>\n",
              "      <td>...</td>\n",
              "      <td>0.03772</td>\n",
              "      <td>0.08771</td>\n",
              "      <td>0.01353</td>\n",
              "      <td>20.644</td>\n",
              "      <td>0.434969</td>\n",
              "      <td>0.819235</td>\n",
              "      <td>-4.117501</td>\n",
              "      <td>0.334147</td>\n",
              "      <td>2.405554</td>\n",
              "      <td>0.368975</td>\n",
              "    </tr>\n",
              "    <tr>\n",
              "      <th>phon_R01_S01_5</th>\n",
              "      <td>116.014</td>\n",
              "      <td>141.781</td>\n",
              "      <td>110.655</td>\n",
              "      <td>0.01284</td>\n",
              "      <td>0.00011</td>\n",
              "      <td>0.00655</td>\n",
              "      <td>0.00908</td>\n",
              "      <td>0.01966</td>\n",
              "      <td>0.06425</td>\n",
              "      <td>0.584</td>\n",
              "      <td>...</td>\n",
              "      <td>0.04465</td>\n",
              "      <td>0.10470</td>\n",
              "      <td>0.01767</td>\n",
              "      <td>19.649</td>\n",
              "      <td>0.417356</td>\n",
              "      <td>0.823484</td>\n",
              "      <td>-3.747787</td>\n",
              "      <td>0.234513</td>\n",
              "      <td>2.332180</td>\n",
              "      <td>0.410335</td>\n",
              "    </tr>\n",
              "  </tbody>\n",
              "</table>\n",
              "<p>5 rows × 22 columns</p>\n",
              "</div>\n",
              "    <div class=\"colab-df-buttons\">\n",
              "\n",
              "  <div class=\"colab-df-container\">\n",
              "    <button class=\"colab-df-convert\" onclick=\"convertToInteractive('df-1f3f0a2d-4f4f-4ce9-a199-ce40ea2b09b9')\"\n",
              "            title=\"Convert this dataframe to an interactive table.\"\n",
              "            style=\"display:none;\">\n",
              "\n",
              "  <svg xmlns=\"http://www.w3.org/2000/svg\" height=\"24px\" viewBox=\"0 -960 960 960\">\n",
              "    <path d=\"M120-120v-720h720v720H120Zm60-500h600v-160H180v160Zm220 220h160v-160H400v160Zm0 220h160v-160H400v160ZM180-400h160v-160H180v160Zm440 0h160v-160H620v160ZM180-180h160v-160H180v160Zm440 0h160v-160H620v160Z\"/>\n",
              "  </svg>\n",
              "    </button>\n",
              "\n",
              "  <style>\n",
              "    .colab-df-container {\n",
              "      display:flex;\n",
              "      gap: 12px;\n",
              "    }\n",
              "\n",
              "    .colab-df-convert {\n",
              "      background-color: #E8F0FE;\n",
              "      border: none;\n",
              "      border-radius: 50%;\n",
              "      cursor: pointer;\n",
              "      display: none;\n",
              "      fill: #1967D2;\n",
              "      height: 32px;\n",
              "      padding: 0 0 0 0;\n",
              "      width: 32px;\n",
              "    }\n",
              "\n",
              "    .colab-df-convert:hover {\n",
              "      background-color: #E2EBFA;\n",
              "      box-shadow: 0px 1px 2px rgba(60, 64, 67, 0.3), 0px 1px 3px 1px rgba(60, 64, 67, 0.15);\n",
              "      fill: #174EA6;\n",
              "    }\n",
              "\n",
              "    .colab-df-buttons div {\n",
              "      margin-bottom: 4px;\n",
              "    }\n",
              "\n",
              "    [theme=dark] .colab-df-convert {\n",
              "      background-color: #3B4455;\n",
              "      fill: #D2E3FC;\n",
              "    }\n",
              "\n",
              "    [theme=dark] .colab-df-convert:hover {\n",
              "      background-color: #434B5C;\n",
              "      box-shadow: 0px 1px 3px 1px rgba(0, 0, 0, 0.15);\n",
              "      filter: drop-shadow(0px 1px 2px rgba(0, 0, 0, 0.3));\n",
              "      fill: #FFFFFF;\n",
              "    }\n",
              "  </style>\n",
              "\n",
              "    <script>\n",
              "      const buttonEl =\n",
              "        document.querySelector('#df-1f3f0a2d-4f4f-4ce9-a199-ce40ea2b09b9 button.colab-df-convert');\n",
              "      buttonEl.style.display =\n",
              "        google.colab.kernel.accessAllowed ? 'block' : 'none';\n",
              "\n",
              "      async function convertToInteractive(key) {\n",
              "        const element = document.querySelector('#df-1f3f0a2d-4f4f-4ce9-a199-ce40ea2b09b9');\n",
              "        const dataTable =\n",
              "          await google.colab.kernel.invokeFunction('convertToInteractive',\n",
              "                                                    [key], {});\n",
              "        if (!dataTable) return;\n",
              "\n",
              "        const docLinkHtml = 'Like what you see? Visit the ' +\n",
              "          '<a target=\"_blank\" href=https://colab.research.google.com/notebooks/data_table.ipynb>data table notebook</a>'\n",
              "          + ' to learn more about interactive tables.';\n",
              "        element.innerHTML = '';\n",
              "        dataTable['output_type'] = 'display_data';\n",
              "        await google.colab.output.renderOutput(dataTable, element);\n",
              "        const docLink = document.createElement('div');\n",
              "        docLink.innerHTML = docLinkHtml;\n",
              "        element.appendChild(docLink);\n",
              "      }\n",
              "    </script>\n",
              "  </div>\n",
              "\n",
              "\n",
              "<div id=\"df-75dfd8dc-3086-468d-b3f6-7473aef75dab\">\n",
              "  <button class=\"colab-df-quickchart\" onclick=\"quickchart('df-75dfd8dc-3086-468d-b3f6-7473aef75dab')\"\n",
              "            title=\"Suggest charts\"\n",
              "            style=\"display:none;\">\n",
              "\n",
              "<svg xmlns=\"http://www.w3.org/2000/svg\" height=\"24px\"viewBox=\"0 0 24 24\"\n",
              "     width=\"24px\">\n",
              "    <g>\n",
              "        <path d=\"M19 3H5c-1.1 0-2 .9-2 2v14c0 1.1.9 2 2 2h14c1.1 0 2-.9 2-2V5c0-1.1-.9-2-2-2zM9 17H7v-7h2v7zm4 0h-2V7h2v10zm4 0h-2v-4h2v4z\"/>\n",
              "    </g>\n",
              "</svg>\n",
              "  </button>\n",
              "\n",
              "<style>\n",
              "  .colab-df-quickchart {\n",
              "      --bg-color: #E8F0FE;\n",
              "      --fill-color: #1967D2;\n",
              "      --hover-bg-color: #E2EBFA;\n",
              "      --hover-fill-color: #174EA6;\n",
              "      --disabled-fill-color: #AAA;\n",
              "      --disabled-bg-color: #DDD;\n",
              "  }\n",
              "\n",
              "  [theme=dark] .colab-df-quickchart {\n",
              "      --bg-color: #3B4455;\n",
              "      --fill-color: #D2E3FC;\n",
              "      --hover-bg-color: #434B5C;\n",
              "      --hover-fill-color: #FFFFFF;\n",
              "      --disabled-bg-color: #3B4455;\n",
              "      --disabled-fill-color: #666;\n",
              "  }\n",
              "\n",
              "  .colab-df-quickchart {\n",
              "    background-color: var(--bg-color);\n",
              "    border: none;\n",
              "    border-radius: 50%;\n",
              "    cursor: pointer;\n",
              "    display: none;\n",
              "    fill: var(--fill-color);\n",
              "    height: 32px;\n",
              "    padding: 0;\n",
              "    width: 32px;\n",
              "  }\n",
              "\n",
              "  .colab-df-quickchart:hover {\n",
              "    background-color: var(--hover-bg-color);\n",
              "    box-shadow: 0 1px 2px rgba(60, 64, 67, 0.3), 0 1px 3px 1px rgba(60, 64, 67, 0.15);\n",
              "    fill: var(--button-hover-fill-color);\n",
              "  }\n",
              "\n",
              "  .colab-df-quickchart-complete:disabled,\n",
              "  .colab-df-quickchart-complete:disabled:hover {\n",
              "    background-color: var(--disabled-bg-color);\n",
              "    fill: var(--disabled-fill-color);\n",
              "    box-shadow: none;\n",
              "  }\n",
              "\n",
              "  .colab-df-spinner {\n",
              "    border: 2px solid var(--fill-color);\n",
              "    border-color: transparent;\n",
              "    border-bottom-color: var(--fill-color);\n",
              "    animation:\n",
              "      spin 1s steps(1) infinite;\n",
              "  }\n",
              "\n",
              "  @keyframes spin {\n",
              "    0% {\n",
              "      border-color: transparent;\n",
              "      border-bottom-color: var(--fill-color);\n",
              "      border-left-color: var(--fill-color);\n",
              "    }\n",
              "    20% {\n",
              "      border-color: transparent;\n",
              "      border-left-color: var(--fill-color);\n",
              "      border-top-color: var(--fill-color);\n",
              "    }\n",
              "    30% {\n",
              "      border-color: transparent;\n",
              "      border-left-color: var(--fill-color);\n",
              "      border-top-color: var(--fill-color);\n",
              "      border-right-color: var(--fill-color);\n",
              "    }\n",
              "    40% {\n",
              "      border-color: transparent;\n",
              "      border-right-color: var(--fill-color);\n",
              "      border-top-color: var(--fill-color);\n",
              "    }\n",
              "    60% {\n",
              "      border-color: transparent;\n",
              "      border-right-color: var(--fill-color);\n",
              "    }\n",
              "    80% {\n",
              "      border-color: transparent;\n",
              "      border-right-color: var(--fill-color);\n",
              "      border-bottom-color: var(--fill-color);\n",
              "    }\n",
              "    90% {\n",
              "      border-color: transparent;\n",
              "      border-bottom-color: var(--fill-color);\n",
              "    }\n",
              "  }\n",
              "</style>\n",
              "\n",
              "  <script>\n",
              "    async function quickchart(key) {\n",
              "      const quickchartButtonEl =\n",
              "        document.querySelector('#' + key + ' button');\n",
              "      quickchartButtonEl.disabled = true;  // To prevent multiple clicks.\n",
              "      quickchartButtonEl.classList.add('colab-df-spinner');\n",
              "      try {\n",
              "        const charts = await google.colab.kernel.invokeFunction(\n",
              "            'suggestCharts', [key], {});\n",
              "      } catch (error) {\n",
              "        console.error('Error during call to suggestCharts:', error);\n",
              "      }\n",
              "      quickchartButtonEl.classList.remove('colab-df-spinner');\n",
              "      quickchartButtonEl.classList.add('colab-df-quickchart-complete');\n",
              "    }\n",
              "    (() => {\n",
              "      let quickchartButtonEl =\n",
              "        document.querySelector('#df-75dfd8dc-3086-468d-b3f6-7473aef75dab button');\n",
              "      quickchartButtonEl.style.display =\n",
              "        google.colab.kernel.accessAllowed ? 'block' : 'none';\n",
              "    })();\n",
              "  </script>\n",
              "</div>\n",
              "\n",
              "    </div>\n",
              "  </div>\n"
            ],
            "application/vnd.google.colaboratory.intrinsic+json": {
              "type": "dataframe",
              "variable_name": "X"
            }
          },
          "metadata": {},
          "execution_count": 11
        }
      ],
      "source": [
        "X = data.drop('status', axis=1)\n",
        "X.head()"
      ]
    },
    {
      "cell_type": "markdown",
      "id": "6c052448",
      "metadata": {
        "papermill": {
          "duration": 0.033014,
          "end_time": "2023-07-10T05:29:48.815617",
          "exception": false,
          "start_time": "2023-07-10T05:29:48.782603",
          "status": "completed"
        },
        "tags": [],
        "id": "6c052448"
      },
      "source": [
        "## The   Health status of the subject (one) - Parkinson's, (zero) - healthy  is given in the ```status``` column:\n"
      ]
    },
    {
      "cell_type": "code",
      "execution_count": 12,
      "id": "d8d5e0cf",
      "metadata": {
        "execution": {
          "iopub.execute_input": "2023-07-10T05:29:48.885884Z",
          "iopub.status.busy": "2023-07-10T05:29:48.885475Z",
          "iopub.status.idle": "2023-07-10T05:29:48.892842Z",
          "shell.execute_reply": "2023-07-10T05:29:48.892067Z"
        },
        "papermill": {
          "duration": 0.045081,
          "end_time": "2023-07-10T05:29:48.894967",
          "exception": false,
          "start_time": "2023-07-10T05:29:48.849886",
          "status": "completed"
        },
        "tags": [],
        "colab": {
          "base_uri": "https://localhost:8080/"
        },
        "id": "d8d5e0cf",
        "outputId": "0f54170a-7d26-4144-adf8-7d6b4187ce0e"
      },
      "outputs": [
        {
          "output_type": "execute_result",
          "data": {
            "text/plain": [
              "name\n",
              "phon_R01_S01_1    1\n",
              "phon_R01_S01_2    1\n",
              "phon_R01_S01_3    1\n",
              "phon_R01_S01_4    1\n",
              "phon_R01_S01_5    1\n",
              "Name: status, dtype: int64"
            ]
          },
          "metadata": {},
          "execution_count": 12
        }
      ],
      "source": [
        "y=data['status']\n",
        "y.head()"
      ]
    },
    {
      "cell_type": "markdown",
      "id": "8d4399b6",
      "metadata": {
        "papermill": {
          "duration": 0.033855,
          "end_time": "2023-07-10T05:29:48.963815",
          "exception": false,
          "start_time": "2023-07-10T05:29:48.929960",
          "status": "completed"
        },
        "tags": [],
        "id": "8d4399b6"
      },
      "source": [
        "### we can see that 3/4 of the samples are have Parkinson's\n"
      ]
    },
    {
      "cell_type": "code",
      "execution_count": 13,
      "id": "6b6e9489",
      "metadata": {
        "execution": {
          "iopub.execute_input": "2023-07-10T05:29:49.033983Z",
          "iopub.status.busy": "2023-07-10T05:29:49.033152Z",
          "iopub.status.idle": "2023-07-10T05:29:49.044028Z",
          "shell.execute_reply": "2023-07-10T05:29:49.043257Z"
        },
        "papermill": {
          "duration": 0.048148,
          "end_time": "2023-07-10T05:29:49.046161",
          "exception": false,
          "start_time": "2023-07-10T05:29:48.998013",
          "status": "completed"
        },
        "tags": [],
        "colab": {
          "base_uri": "https://localhost:8080/"
        },
        "id": "6b6e9489",
        "outputId": "5841c70f-f447-400c-a4fc-5cfaa309dc27"
      },
      "outputs": [
        {
          "output_type": "execute_result",
          "data": {
            "text/plain": [
              "status\n",
              "1    0.753846\n",
              "0    0.246154\n",
              "Name: proportion, dtype: float64"
            ]
          },
          "metadata": {},
          "execution_count": 13
        }
      ],
      "source": [
        "y.value_counts(normalize=True)"
      ]
    },
    {
      "cell_type": "markdown",
      "id": "ba359095",
      "metadata": {
        "papermill": {
          "duration": 0.03444,
          "end_time": "2023-07-10T05:29:49.114838",
          "exception": false,
          "start_time": "2023-07-10T05:29:49.080398",
          "status": "completed"
        },
        "tags": [],
        "id": "ba359095"
      },
      "source": [
        "## t-SNE (t-Distributed Stochastic Neighbor Embedding) is a machine learning technique used for dimensionality reduction and visualization of high-dimensional datasets. It is particularly useful for visualizing complex data structures, as it helps to project the data points from a high-dimensional space to a lower-dimensional space (usually 2D or 3D) while preserving the relationships between the data points as much as possible. Lets apply it to our dataset:\n"
      ]
    },
    {
      "cell_type": "code",
      "execution_count": 14,
      "id": "59a6ee39",
      "metadata": {
        "execution": {
          "iopub.execute_input": "2023-07-10T05:29:49.188991Z",
          "iopub.status.busy": "2023-07-10T05:29:49.188333Z",
          "iopub.status.idle": "2023-07-10T05:29:52.128547Z",
          "shell.execute_reply": "2023-07-10T05:29:52.127514Z"
        },
        "papermill": {
          "duration": 2.981105,
          "end_time": "2023-07-10T05:29:52.131058",
          "exception": false,
          "start_time": "2023-07-10T05:29:49.149953",
          "status": "completed"
        },
        "tags": [],
        "colab": {
          "base_uri": "https://localhost:8080/",
          "height": 573
        },
        "id": "59a6ee39",
        "outputId": "2ed8c7e4-4c79-45a3-86ba-20b4d9919e08"
      },
      "outputs": [
        {
          "output_type": "display_data",
          "data": {
            "text/plain": [
              "<Figure size 800x600 with 1 Axes>"
            ],
            "image/png": "[encoded data removed]"
          },
          "metadata": {}
        }
      ],
      "source": [
        "import seaborn as sns\n",
        "from sklearn.manifold import TSNE\n",
        "\n",
        "# Apply t-SNE to reduce the dimensions to 2\n",
        "tsne = TSNE(n_components=2, random_state=42)\n",
        "X_tsne = tsne.fit_transform(X)\n",
        "\n",
        "# Create a DataFrame with the t-SNE-transformed data and class labels\n",
        "tsne_df = pd.DataFrame(data=X_tsne, columns=['TSNE1', 'TSNE2'])\n",
        "tsne_df['Class'] = y.values\n",
        "\n",
        "# Visualize the data based on class using a scatter plot\n",
        "plt.figure(figsize=(8, 6))\n",
        "sns.scatterplot(data=tsne_df, x='TSNE1', y='TSNE2', hue='Class', palette='Set2')\n",
        "plt.title('t-SNE Visualization')\n",
        "plt.show()"
      ]
    },
    {
      "cell_type": "markdown",
      "id": "0913a327",
      "metadata": {
        "papermill": {
          "duration": 0.035262,
          "end_time": "2023-07-10T05:29:52.201926",
          "exception": false,
          "start_time": "2023-07-10T05:29:52.166664",
          "status": "completed"
        },
        "tags": [],
        "id": "0913a327"
      },
      "source": [
        "# Data preparation\n",
        "\n",
        "## Here, we are splitting a dataset into independent and dependent variables, and then splitting it further into training and testing sets.\n"
      ]
    },
    {
      "cell_type": "code",
      "execution_count": 15,
      "id": "21e02e16",
      "metadata": {
        "execution": {
          "iopub.execute_input": "2023-07-10T05:29:52.273729Z",
          "iopub.status.busy": "2023-07-10T05:29:52.272668Z",
          "iopub.status.idle": "2023-07-10T05:29:52.282024Z",
          "shell.execute_reply": "2023-07-10T05:29:52.280824Z"
        },
        "papermill": {
          "duration": 0.047398,
          "end_time": "2023-07-10T05:29:52.284025",
          "exception": false,
          "start_time": "2023-07-10T05:29:52.236627",
          "status": "completed"
        },
        "tags": [],
        "colab": {
          "base_uri": "https://localhost:8080/"
        },
        "id": "21e02e16",
        "outputId": "ffdf32a2-0b68-47f0-edc7-54c2c39fe39b"
      },
      "outputs": [
        {
          "output_type": "stream",
          "name": "stdout",
          "text": [
            "X_train shape:  (136, 22)\n",
            "y_train shape:  (136,)\n",
            "X_test shape:  (59, 22)\n",
            "y_test shape:  (59,)\n"
          ]
        }
      ],
      "source": [
        "# Split the data into train and test sets\n",
        "X_train, X_test, y_train, y_test = train_test_split(X, y, test_size=0.3, random_state=11)\n",
        "\n",
        "\n",
        "# print the shape of train and test data\n",
        "print(\"X_train shape: \", X_train.shape)\n",
        "print(\"y_train shape: \", y_train.shape)\n",
        "print(\"X_test shape: \", X_test.shape)\n",
        "print(\"y_test shape: \", y_test.shape)"
      ]
    },
    {
      "cell_type": "markdown",
      "id": "bfd48ec9",
      "metadata": {
        "papermill": {
          "duration": 0.03422,
          "end_time": "2023-07-10T05:29:52.352788",
          "exception": false,
          "start_time": "2023-07-10T05:29:52.318568",
          "status": "completed"
        },
        "tags": [],
        "id": "bfd48ec9"
      },
      "source": [
        "# k-Nearest Neighbors (k-NN)\n"
      ]
    },
    {
      "cell_type": "markdown",
      "id": "08a457ff",
      "metadata": {
        "papermill": {
          "duration": 0.036196,
          "end_time": "2023-07-10T05:29:52.422929",
          "exception": false,
          "start_time": "2023-07-10T05:29:52.386733",
          "status": "completed"
        },
        "tags": [],
        "id": "08a457ff"
      },
      "source": [
        "## K-NN\n"
      ]
    },
    {
      "cell_type": "markdown",
      "id": "b5629410",
      "metadata": {
        "papermill": {
          "duration": 0.033725,
          "end_time": "2023-07-10T05:29:52.491425",
          "exception": false,
          "start_time": "2023-07-10T05:29:52.457700",
          "status": "completed"
        },
        "tags": [],
        "id": "b5629410"
      },
      "source": [
        "## In k-NN, the basic idea is to predict the label of a new instance based on the labels of its k nearest neighbors in the training data.\n",
        "\n",
        "## We import the library\n"
      ]
    },
    {
      "cell_type": "code",
      "execution_count": 16,
      "id": "0253ed75",
      "metadata": {
        "execution": {
          "iopub.execute_input": "2023-07-10T05:29:52.560555Z",
          "iopub.status.busy": "2023-07-10T05:29:52.559883Z",
          "iopub.status.idle": "2023-07-10T05:29:52.563706Z",
          "shell.execute_reply": "2023-07-10T05:29:52.563077Z"
        },
        "papermill": {
          "duration": 0.040316,
          "end_time": "2023-07-10T05:29:52.565636",
          "exception": false,
          "start_time": "2023-07-10T05:29:52.525320",
          "status": "completed"
        },
        "tags": [],
        "id": "0253ed75"
      },
      "outputs": [],
      "source": [
        "from sklearn.neighbors import KNeighborsClassifier"
      ]
    },
    {
      "cell_type": "markdown",
      "id": "fafcbf91",
      "metadata": {
        "papermill": {
          "duration": 0.032456,
          "end_time": "2023-07-10T05:29:52.630732",
          "exception": false,
          "start_time": "2023-07-10T05:29:52.598276",
          "status": "completed"
        },
        "tags": [],
        "id": "fafcbf91"
      },
      "source": [
        "## we create a knn object\n"
      ]
    },
    {
      "cell_type": "code",
      "execution_count": 17,
      "id": "df51303d",
      "metadata": {
        "execution": {
          "iopub.execute_input": "2023-07-10T05:29:52.704135Z",
          "iopub.status.busy": "2023-07-10T05:29:52.703450Z",
          "iopub.status.idle": "2023-07-10T05:29:52.707909Z",
          "shell.execute_reply": "2023-07-10T05:29:52.706986Z"
        },
        "papermill": {
          "duration": 0.043718,
          "end_time": "2023-07-10T05:29:52.710018",
          "exception": false,
          "start_time": "2023-07-10T05:29:52.666300",
          "status": "completed"
        },
        "tags": [],
        "id": "df51303d"
      },
      "outputs": [],
      "source": [
        "knn = KNeighborsClassifier(n_neighbors=3)"
      ]
    },
    {
      "cell_type": "markdown",
      "id": "7ec77f90",
      "metadata": {
        "papermill": {
          "duration": 0.032717,
          "end_time": "2023-07-10T05:29:52.777924",
          "exception": false,
          "start_time": "2023-07-10T05:29:52.745207",
          "status": "completed"
        },
        "tags": [],
        "id": "7ec77f90"
      },
      "source": [
        "## we fit the object\n"
      ]
    },
    {
      "cell_type": "code",
      "execution_count": 18,
      "id": "9933fe55",
      "metadata": {
        "execution": {
          "iopub.execute_input": "2023-07-10T05:29:52.846751Z",
          "iopub.status.busy": "2023-07-10T05:29:52.846099Z",
          "iopub.status.idle": "2023-07-10T05:29:52.863157Z",
          "shell.execute_reply": "2023-07-10T05:29:52.862146Z"
        },
        "papermill": {
          "duration": 0.05381,
          "end_time": "2023-07-10T05:29:52.865361",
          "exception": false,
          "start_time": "2023-07-10T05:29:52.811551",
          "status": "completed"
        },
        "tags": [],
        "colab": {
          "base_uri": "https://localhost:8080/",
          "height": 74
        },
        "id": "9933fe55",
        "outputId": "7426c603-c9f9-43b5-803c-513bd20624c9"
      },
      "outputs": [
        {
          "output_type": "execute_result",
          "data": {
            "text/plain": [
              "KNeighborsClassifier(n_neighbors=3)"
            ],
            "text/html": [
              "<style>#sk-container-id-1 {color: black;background-color: white;}#sk-container-id-1 pre{padding: 0;}#sk-container-id-1 div.sk-toggleable {background-color: white;}#sk-container-id-1 label.sk-toggleable__label {cursor: pointer;display: block;width: 100%;margin-bottom: 0;padding: 0.3em;box-sizing: border-box;text-align: center;}#sk-container-id-1 label.sk-toggleable__label-arrow:before {content: \"▸\";float: left;margin-right: 0.25em;color: #696969;}#sk-container-id-1 label.sk-toggleable__label-arrow:hover:before {color: black;}#sk-container-id-1 div.sk-estimator:hover label.sk-toggleable__label-arrow:before {color: black;}#sk-container-id-1 div.sk-toggleable__content {max-height: 0;max-width: 0;overflow: hidden;text-align: left;background-color: #f0f8ff;}#sk-container-id-1 div.sk-toggleable__content pre {margin: 0.2em;color: black;border-radius: 0.25em;background-color: #f0f8ff;}#sk-container-id-1 input.sk-toggleable__control:checked~div.sk-toggleable__content {max-height: 200px;max-width: 100%;overflow: auto;}#sk-container-id-1 input.sk-toggleable__control:checked~label.sk-toggleable__label-arrow:before {content: \"▾\";}#sk-container-id-1 div.sk-estimator input.sk-toggleable__control:checked~label.sk-toggleable__label {background-color: #d4ebff;}#sk-container-id-1 div.sk-label input.sk-toggleable__control:checked~label.sk-toggleable__label {background-color: #d4ebff;}#sk-container-id-1 input.sk-hidden--visually {border: 0;clip: rect(1px 1px 1px 1px);clip: rect(1px, 1px, 1px, 1px);height: 1px;margin: -1px;overflow: hidden;padding: 0;position: absolute;width: 1px;}#sk-container-id-1 div.sk-estimator {font-family: monospace;background-color: #f0f8ff;border: 1px dotted black;border-radius: 0.25em;box-sizing: border-box;margin-bottom: 0.5em;}#sk-container-id-1 div.sk-estimator:hover {background-color: #d4ebff;}#sk-container-id-1 div.sk-parallel-item::after {content: \"\";width: 100%;border-bottom: 1px solid gray;flex-grow: 1;}#sk-container-id-1 div.sk-label:hover label.sk-toggleable__label {background-color: #d4ebff;}#sk-container-id-1 div.sk-serial::before {content: \"\";position: absolute;border-left: 1px solid gray;box-sizing: border-box;top: 0;bottom: 0;left: 50%;z-index: 0;}#sk-container-id-1 div.sk-serial {display: flex;flex-direction: column;align-items: center;background-color: white;padding-right: 0.2em;padding-left: 0.2em;position: relative;}#sk-container-id-1 div.sk-item {position: relative;z-index: 1;}#sk-container-id-1 div.sk-parallel {display: flex;align-items: stretch;justify-content: center;background-color: white;position: relative;}#sk-container-id-1 div.sk-item::before, #sk-container-id-1 div.sk-parallel-item::before {content: \"\";position: absolute;border-left: 1px solid gray;box-sizing: border-box;top: 0;bottom: 0;left: 50%;z-index: -1;}#sk-container-id-1 div.sk-parallel-item {display: flex;flex-direction: column;z-index: 1;position: relative;background-color: white;}#sk-container-id-1 div.sk-parallel-item:first-child::after {align-self: flex-end;width: 50%;}#sk-container-id-1 div.sk-parallel-item:last-child::after {align-self: flex-start;width: 50%;}#sk-container-id-1 div.sk-parallel-item:only-child::after {width: 0;}#sk-container-id-1 div.sk-dashed-wrapped {border: 1px dashed gray;margin: 0 0.4em 0.5em 0.4em;box-sizing: border-box;padding-bottom: 0.4em;background-color: white;}#sk-container-id-1 div.sk-label label {font-family: monospace;font-weight: bold;display: inline-block;line-height: 1.2em;}#sk-container-id-1 div.sk-label-container {text-align: center;}#sk-container-id-1 div.sk-container {/* jupyter's `normalize.less` sets `[hidden] { display: none; }` but bootstrap.min.css set `[hidden] { display: none !important; }` so we also need the `!important` here to be able to override the default hidden behavior on the sphinx rendered scikit-learn.org. See: https://github.com/scikit-learn/scikit-learn/issues/21755 */display: inline-block !important;position: relative;}#sk-container-id-1 div.sk-text-repr-fallback {display: none;}</style><div id=\"sk-container-id-1\" class=\"sk-top-container\"><div class=\"sk-text-repr-fallback\"><pre>KNeighborsClassifier(n_neighbors=3)</pre><b>In a Jupyter environment, please rerun this cell to show the HTML representation or trust the notebook. <br />On GitHub, the HTML representation is unable to render, please try loading this page with nbviewer.org.</b></div><div class=\"sk-container\" hidden><div class=\"sk-item\"><div class=\"sk-estimator sk-toggleable\"><input class=\"sk-toggleable__control sk-hidden--visually\" id=\"sk-estimator-id-1\" type=\"checkbox\" checked><label for=\"sk-estimator-id-1\" class=\"sk-toggleable__label sk-toggleable__label-arrow\">KNeighborsClassifier</label><div class=\"sk-toggleable__content\"><pre>KNeighborsClassifier(n_neighbors=3)</pre></div></div></div></div></div>"
            ]
          },
          "metadata": {},
          "execution_count": 18
        }
      ],
      "source": [
        "knn.fit(X_train, y_train)"
      ]
    },
    {
      "cell_type": "markdown",
      "id": "4459136d",
      "metadata": {
        "papermill": {
          "duration": 0.034655,
          "end_time": "2023-07-10T05:29:52.934828",
          "exception": false,
          "start_time": "2023-07-10T05:29:52.900173",
          "status": "completed"
        },
        "tags": [],
        "id": "4459136d"
      },
      "source": [
        "## Make predictions on the testing data\n"
      ]
    },
    {
      "cell_type": "code",
      "execution_count": 19,
      "id": "f5214d2b",
      "metadata": {
        "execution": {
          "iopub.execute_input": "2023-07-10T05:29:53.008175Z",
          "iopub.status.busy": "2023-07-10T05:29:53.007503Z",
          "iopub.status.idle": "2023-07-10T05:29:53.021026Z",
          "shell.execute_reply": "2023-07-10T05:29:53.020196Z"
        },
        "papermill": {
          "duration": 0.053557,
          "end_time": "2023-07-10T05:29:53.023376",
          "exception": false,
          "start_time": "2023-07-10T05:29:52.969819",
          "status": "completed"
        },
        "tags": [],
        "colab": {
          "base_uri": "https://localhost:8080/"
        },
        "id": "f5214d2b",
        "outputId": "f309db76-40bf-4730-e251-066dbd84a4cb"
      },
      "outputs": [
        {
          "output_type": "execute_result",
          "data": {
            "text/plain": [
              "array([1, 0, 1, 1, 1, 1, 1, 0, 0, 0])"
            ]
          },
          "metadata": {},
          "execution_count": 19
        }
      ],
      "source": [
        "y_pred = knn.predict(X_test)\n",
        "y_pred[0:10]"
      ]
    },
    {
      "cell_type": "markdown",
      "id": "6f49c0c3",
      "metadata": {
        "papermill": {
          "duration": 0.034383,
          "end_time": "2023-07-10T05:29:53.093782",
          "exception": false,
          "start_time": "2023-07-10T05:29:53.059399",
          "status": "completed"
        },
        "tags": [],
        "id": "6f49c0c3"
      },
      "source": [
        "## We can  get a probability of belonging to a each class for each sample, here are the first ten\n"
      ]
    },
    {
      "cell_type": "code",
      "execution_count": 20,
      "id": "e55a4a8d",
      "metadata": {
        "execution": {
          "iopub.execute_input": "2023-07-10T05:29:53.166041Z",
          "iopub.status.busy": "2023-07-10T05:29:53.165591Z",
          "iopub.status.idle": "2023-07-10T05:29:53.178254Z",
          "shell.execute_reply": "2023-07-10T05:29:53.177412Z"
        },
        "papermill": {
          "duration": 0.051955,
          "end_time": "2023-07-10T05:29:53.180658",
          "exception": false,
          "start_time": "2023-07-10T05:29:53.128703",
          "status": "completed"
        },
        "tags": [],
        "colab": {
          "base_uri": "https://localhost:8080/"
        },
        "id": "e55a4a8d",
        "outputId": "22478075-3317-44d1-9824-841d6a23c325"
      },
      "outputs": [
        {
          "output_type": "execute_result",
          "data": {
            "text/plain": [
              "array([[0.33333333, 0.66666667],\n",
              "       [0.66666667, 0.33333333],\n",
              "       [0.33333333, 0.66666667],\n",
              "       [0.33333333, 0.66666667],\n",
              "       [0.        , 1.        ],\n",
              "       [0.33333333, 0.66666667],\n",
              "       [0.        , 1.        ],\n",
              "       [1.        , 0.        ],\n",
              "       [1.        , 0.        ],\n",
              "       [1.        , 0.        ]])"
            ]
          },
          "metadata": {},
          "execution_count": 20
        }
      ],
      "source": [
        "knn.predict_proba(X_test)[0:10]"
      ]
    },
    {
      "cell_type": "markdown",
      "id": "2cf2cee1",
      "metadata": {
        "papermill": {
          "duration": 0.034246,
          "end_time": "2023-07-10T05:29:53.251598",
          "exception": false,
          "start_time": "2023-07-10T05:29:53.217352",
          "status": "completed"
        },
        "tags": [],
        "id": "2cf2cee1"
      },
      "source": [
        "## The confusion matrix is a table that shows the number of true positive, true negative, false positive, and false negative predictions. The classification report provides the precision, recall, F1-score, and support for each class, which are important metrics for evaluating the performance of a classifier. The accuracy score is a simple metric that calculates the proportion of correct predictions out of the total predictions made by the model. These three elements together provide a comprehensive evaluation of the classifier's performance on the test dataset. Let's prints the confusion matrix, classification report, and accuracy score for a given classification model.\n"
      ]
    },
    {
      "cell_type": "code",
      "execution_count": 21,
      "id": "47839423",
      "metadata": {
        "execution": {
          "iopub.execute_input": "2023-07-10T05:29:53.323142Z",
          "iopub.status.busy": "2023-07-10T05:29:53.322750Z",
          "iopub.status.idle": "2023-07-10T05:29:53.327580Z",
          "shell.execute_reply": "2023-07-10T05:29:53.326546Z"
        },
        "papermill": {
          "duration": 0.04309,
          "end_time": "2023-07-10T05:29:53.329579",
          "exception": false,
          "start_time": "2023-07-10T05:29:53.286489",
          "status": "completed"
        },
        "tags": [],
        "id": "47839423"
      },
      "outputs": [],
      "source": [
        "from sklearn.metrics import classification_report, confusion_matrix, accuracy_score"
      ]
    },
    {
      "cell_type": "code",
      "execution_count": 22,
      "id": "d562323d",
      "metadata": {
        "execution": {
          "iopub.execute_input": "2023-07-10T05:29:53.406467Z",
          "iopub.status.busy": "2023-07-10T05:29:53.405514Z",
          "iopub.status.idle": "2023-07-10T05:29:53.851273Z",
          "shell.execute_reply": "2023-07-10T05:29:53.849934Z"
        },
        "papermill": {
          "duration": 0.488295,
          "end_time": "2023-07-10T05:29:53.854295",
          "exception": false,
          "start_time": "2023-07-10T05:29:53.366000",
          "status": "completed"
        },
        "tags": [],
        "colab": {
          "base_uri": "https://localhost:8080/",
          "height": 556
        },
        "id": "d562323d",
        "outputId": "adea5c0b-772a-43f2-d795-ffa7d30ce5b5"
      },
      "outputs": [
        {
          "output_type": "stream",
          "name": "stdout",
          "text": [
            "Confusion matrix, without normalization\n",
            "[[ 9  3]\n",
            " [ 5 42]]\n"
          ]
        },
        {
          "output_type": "display_data",
          "data": {
            "text/plain": [
              "<Figure size 640x480 with 2 Axes>"
            ],
            "image/png": "[encoded data removed]"
          },
          "metadata": {}
        }
      ],
      "source": [
        "plot_confusion_matrix(confusion_matrix(y_test, y_pred),classes=[ \"Not Parkinson\", \" Parkinson\"],title='Confusion matrix')"
      ]
    },
    {
      "cell_type": "code",
      "execution_count": 23,
      "id": "2c31113b",
      "metadata": {
        "execution": {
          "iopub.execute_input": "2023-07-10T05:29:53.927913Z",
          "iopub.status.busy": "2023-07-10T05:29:53.927511Z",
          "iopub.status.idle": "2023-07-10T05:29:53.941869Z",
          "shell.execute_reply": "2023-07-10T05:29:53.940628Z"
        },
        "papermill": {
          "duration": 0.053682,
          "end_time": "2023-07-10T05:29:53.944418",
          "exception": false,
          "start_time": "2023-07-10T05:29:53.890736",
          "status": "completed"
        },
        "tags": [],
        "colab": {
          "base_uri": "https://localhost:8080/"
        },
        "id": "2c31113b",
        "outputId": "62eec192-363d-47db-97d4-8ca02a04cc37"
      },
      "outputs": [
        {
          "output_type": "stream",
          "name": "stdout",
          "text": [
            "\n",
            "Classification Report:\n",
            "               precision    recall  f1-score   support\n",
            "\n",
            "           0       0.64      0.75      0.69        12\n",
            "           1       0.93      0.89      0.91        47\n",
            "\n",
            "    accuracy                           0.86        59\n",
            "   macro avg       0.79      0.82      0.80        59\n",
            "weighted avg       0.87      0.86      0.87        59\n",
            "\n",
            "\n",
            "Accuracy Score: 0.864406779661017\n"
          ]
        }
      ],
      "source": [
        "print(\"\\nClassification Report:\\n\", classification_report(y_test, y_pred))\n",
        "print(\"\\nAccuracy Score:\", accuracy_score(y_test, y_pred))"
      ]
    },
    {
      "cell_type": "markdown",
      "id": "803d34e6",
      "metadata": {
        "papermill": {
          "duration": 0.035553,
          "end_time": "2023-07-10T05:29:54.016583",
          "exception": false,
          "start_time": "2023-07-10T05:29:53.981030",
          "status": "completed"
        },
        "tags": [],
        "id": "803d34e6"
      },
      "source": [
        "# GridSearchCV\n"
      ]
    },
    {
      "cell_type": "markdown",
      "id": "39166e43",
      "metadata": {
        "papermill": {
          "duration": 0.035399,
          "end_time": "2023-07-10T05:29:54.088116",
          "exception": false,
          "start_time": "2023-07-10T05:29:54.052717",
          "status": "completed"
        },
        "tags": [],
        "id": "39166e43"
      },
      "source": [
        "### In the code above, we randomly selected the hyperparameter ```K``` for our KNN classifier. However, in order to find the optimal hyperparameters that maximize the performance metric, we will perform a grid search. To do this, we define a parameter grid that we will search over for ```K```.\n"
      ]
    },
    {
      "cell_type": "code",
      "execution_count": 24,
      "id": "485428ea",
      "metadata": {
        "execution": {
          "iopub.execute_input": "2023-07-10T05:29:54.163499Z",
          "iopub.status.busy": "2023-07-10T05:29:54.162609Z",
          "iopub.status.idle": "2023-07-10T05:29:54.167243Z",
          "shell.execute_reply": "2023-07-10T05:29:54.166419Z"
        },
        "papermill": {
          "duration": 0.046499,
          "end_time": "2023-07-10T05:29:54.170434",
          "exception": false,
          "start_time": "2023-07-10T05:29:54.123935",
          "status": "completed"
        },
        "tags": [],
        "id": "485428ea"
      },
      "outputs": [],
      "source": [
        "param_grid = {\n",
        "    'n_neighbors': [3, 5, 7, 9],\n",
        "\n",
        "}"
      ]
    },
    {
      "cell_type": "markdown",
      "id": "2e65f8b6",
      "metadata": {
        "papermill": {
          "duration": 0.039964,
          "end_time": "2023-07-10T05:29:54.247539",
          "exception": false,
          "start_time": "2023-07-10T05:29:54.207575",
          "status": "completed"
        },
        "tags": [],
        "id": "2e65f8b6"
      },
      "source": [
        "## Define the KNN classifier object\n"
      ]
    },
    {
      "cell_type": "code",
      "execution_count": 25,
      "id": "ee98a8b4",
      "metadata": {
        "execution": {
          "iopub.execute_input": "2023-07-10T05:29:54.325165Z",
          "iopub.status.busy": "2023-07-10T05:29:54.324570Z",
          "iopub.status.idle": "2023-07-10T05:29:54.330556Z",
          "shell.execute_reply": "2023-07-10T05:29:54.328833Z"
        },
        "papermill": {
          "duration": 0.048545,
          "end_time": "2023-07-10T05:29:54.333759",
          "exception": false,
          "start_time": "2023-07-10T05:29:54.285214",
          "status": "completed"
        },
        "tags": [],
        "id": "ee98a8b4"
      },
      "outputs": [],
      "source": [
        "\n",
        "knn = KNeighborsClassifier()\n",
        "\n"
      ]
    },
    {
      "cell_type": "markdown",
      "id": "4d620b4e",
      "metadata": {
        "papermill": {
          "duration": 0.041784,
          "end_time": "2023-07-10T05:29:54.422255",
          "exception": false,
          "start_time": "2023-07-10T05:29:54.380471",
          "status": "completed"
        },
        "tags": [],
        "id": "4d620b4e"
      },
      "source": [
        "### In medical testing, recall is a measure of the ability of a test to correctly identify true positive cases, or the proportion of actual positive cases that are correctly identified by the test. A high recall means that the test is able to correctly identify a large proportion of true positive cases, even if it may also produce some false positive results, therefore for ```scoring``` we select recall . The choice of performance metric for a machine learning model may depend on several factors.\n",
        "\n",
        "### The next cell  performs a grid search over the hyperparameters of a KNN classifier using ```GridSearchCV()``` function from scikit-learn library. The param_grid parameter specifies a dictionary of hyperparameters to search over, while the scoring parameter specifies the performance metric to optimize for, which in this case is the recall. The cv parameter specifies the number of folds for cross-validationv ```cv``` . The resulting grid_search object can be used to fit the data and obtain the best hyperparameters that maximize the performance metric.\n"
      ]
    },
    {
      "cell_type": "code",
      "execution_count": 26,
      "id": "b7000e8e",
      "metadata": {
        "execution": {
          "iopub.execute_input": "2023-07-10T05:29:54.498931Z",
          "iopub.status.busy": "2023-07-10T05:29:54.497949Z",
          "iopub.status.idle": "2023-07-10T05:29:54.508470Z",
          "shell.execute_reply": "2023-07-10T05:29:54.507379Z"
        },
        "papermill": {
          "duration": 0.051074,
          "end_time": "2023-07-10T05:29:54.510599",
          "exception": false,
          "start_time": "2023-07-10T05:29:54.459525",
          "status": "completed"
        },
        "tags": [],
        "colab": {
          "base_uri": "https://localhost:8080/",
          "height": 117
        },
        "id": "b7000e8e",
        "outputId": "b86ce544-fa04-4675-ce0c-70e3867767f5"
      },
      "outputs": [
        {
          "output_type": "execute_result",
          "data": {
            "text/plain": [
              "GridSearchCV(cv=5, estimator=KNeighborsClassifier(),\n",
              "             param_grid={'n_neighbors': [3, 5, 7, 9]}, scoring='recall')"
            ],
            "text/html": [
              "<style>#sk-container-id-2 {color: black;background-color: white;}#sk-container-id-2 pre{padding: 0;}#sk-container-id-2 div.sk-toggleable {background-color: white;}#sk-container-id-2 label.sk-toggleable__label {cursor: pointer;display: block;width: 100%;margin-bottom: 0;padding: 0.3em;box-sizing: border-box;text-align: center;}#sk-container-id-2 label.sk-toggleable__label-arrow:before {content: \"▸\";float: left;margin-right: 0.25em;color: #696969;}#sk-container-id-2 label.sk-toggleable__label-arrow:hover:before {color: black;}#sk-container-id-2 div.sk-estimator:hover label.sk-toggleable__label-arrow:before {color: black;}#sk-container-id-2 div.sk-toggleable__content {max-height: 0;max-width: 0;overflow: hidden;text-align: left;background-color: #f0f8ff;}#sk-container-id-2 div.sk-toggleable__content pre {margin: 0.2em;color: black;border-radius: 0.25em;background-color: #f0f8ff;}#sk-container-id-2 input.sk-toggleable__control:checked~div.sk-toggleable__content {max-height: 200px;max-width: 100%;overflow: auto;}#sk-container-id-2 input.sk-toggleable__control:checked~label.sk-toggleable__label-arrow:before {content: \"▾\";}#sk-container-id-2 div.sk-estimator input.sk-toggleable__control:checked~label.sk-toggleable__label {background-color: #d4ebff;}#sk-container-id-2 div.sk-label input.sk-toggleable__control:checked~label.sk-toggleable__label {background-color: #d4ebff;}#sk-container-id-2 input.sk-hidden--visually {border: 0;clip: rect(1px 1px 1px 1px);clip: rect(1px, 1px, 1px, 1px);height: 1px;margin: -1px;overflow: hidden;padding: 0;position: absolute;width: 1px;}#sk-container-id-2 div.sk-estimator {font-family: monospace;background-color: #f0f8ff;border: 1px dotted black;border-radius: 0.25em;box-sizing: border-box;margin-bottom: 0.5em;}#sk-container-id-2 div.sk-estimator:hover {background-color: #d4ebff;}#sk-container-id-2 div.sk-parallel-item::after {content: \"\";width: 100%;border-bottom: 1px solid gray;flex-grow: 1;}#sk-container-id-2 div.sk-label:hover label.sk-toggleable__label {background-color: #d4ebff;}#sk-container-id-2 div.sk-serial::before {content: \"\";position: absolute;border-left: 1px solid gray;box-sizing: border-box;top: 0;bottom: 0;left: 50%;z-index: 0;}#sk-container-id-2 div.sk-serial {display: flex;flex-direction: column;align-items: center;background-color: white;padding-right: 0.2em;padding-left: 0.2em;position: relative;}#sk-container-id-2 div.sk-item {position: relative;z-index: 1;}#sk-container-id-2 div.sk-parallel {display: flex;align-items: stretch;justify-content: center;background-color: white;position: relative;}#sk-container-id-2 div.sk-item::before, #sk-container-id-2 div.sk-parallel-item::before {content: \"\";position: absolute;border-left: 1px solid gray;box-sizing: border-box;top: 0;bottom: 0;left: 50%;z-index: -1;}#sk-container-id-2 div.sk-parallel-item {display: flex;flex-direction: column;z-index: 1;position: relative;background-color: white;}#sk-container-id-2 div.sk-parallel-item:first-child::after {align-self: flex-end;width: 50%;}#sk-container-id-2 div.sk-parallel-item:last-child::after {align-self: flex-start;width: 50%;}#sk-container-id-2 div.sk-parallel-item:only-child::after {width: 0;}#sk-container-id-2 div.sk-dashed-wrapped {border: 1px dashed gray;margin: 0 0.4em 0.5em 0.4em;box-sizing: border-box;padding-bottom: 0.4em;background-color: white;}#sk-container-id-2 div.sk-label label {font-family: monospace;font-weight: bold;display: inline-block;line-height: 1.2em;}#sk-container-id-2 div.sk-label-container {text-align: center;}#sk-container-id-2 div.sk-container {/* jupyter's `normalize.less` sets `[hidden] { display: none; }` but bootstrap.min.css set `[hidden] { display: none !important; }` so we also need the `!important` here to be able to override the default hidden behavior on the sphinx rendered scikit-learn.org. See: https://github.com/scikit-learn/scikit-learn/issues/21755 */display: inline-block !important;position: relative;}#sk-container-id-2 div.sk-text-repr-fallback {display: none;}</style><div id=\"sk-container-id-2\" class=\"sk-top-container\"><div class=\"sk-text-repr-fallback\"><pre>GridSearchCV(cv=5, estimator=KNeighborsClassifier(),\n",
              "             param_grid={&#x27;n_neighbors&#x27;: [3, 5, 7, 9]}, scoring=&#x27;recall&#x27;)</pre><b>In a Jupyter environment, please rerun this cell to show the HTML representation or trust the notebook. <br />On GitHub, the HTML representation is unable to render, please try loading this page with nbviewer.org.</b></div><div class=\"sk-container\" hidden><div class=\"sk-item sk-dashed-wrapped\"><div class=\"sk-label-container\"><div class=\"sk-label sk-toggleable\"><input class=\"sk-toggleable__control sk-hidden--visually\" id=\"sk-estimator-id-2\" type=\"checkbox\" ><label for=\"sk-estimator-id-2\" class=\"sk-toggleable__label sk-toggleable__label-arrow\">GridSearchCV</label><div class=\"sk-toggleable__content\"><pre>GridSearchCV(cv=5, estimator=KNeighborsClassifier(),\n",
              "             param_grid={&#x27;n_neighbors&#x27;: [3, 5, 7, 9]}, scoring=&#x27;recall&#x27;)</pre></div></div></div><div class=\"sk-parallel\"><div class=\"sk-parallel-item\"><div class=\"sk-item\"><div class=\"sk-label-container\"><div class=\"sk-label sk-toggleable\"><input class=\"sk-toggleable__control sk-hidden--visually\" id=\"sk-estimator-id-3\" type=\"checkbox\" ><label for=\"sk-estimator-id-3\" class=\"sk-toggleable__label sk-toggleable__label-arrow\">estimator: KNeighborsClassifier</label><div class=\"sk-toggleable__content\"><pre>KNeighborsClassifier()</pre></div></div></div><div class=\"sk-serial\"><div class=\"sk-item\"><div class=\"sk-estimator sk-toggleable\"><input class=\"sk-toggleable__control sk-hidden--visually\" id=\"sk-estimator-id-4\" type=\"checkbox\" ><label for=\"sk-estimator-id-4\" class=\"sk-toggleable__label sk-toggleable__label-arrow\">KNeighborsClassifier</label><div class=\"sk-toggleable__content\"><pre>KNeighborsClassifier()</pre></div></div></div></div></div></div></div></div></div></div>"
            ]
          },
          "metadata": {},
          "execution_count": 26
        }
      ],
      "source": [
        "from sklearn.model_selection import GridSearchCV\n",
        "\n",
        "\n",
        "grid_search = GridSearchCV(knn, param_grid, scoring='recall', cv=5)\n",
        "\n",
        "grid_search"
      ]
    },
    {
      "cell_type": "markdown",
      "id": "a0de801b",
      "metadata": {
        "papermill": {
          "duration": 0.037177,
          "end_time": "2023-07-10T05:29:54.585196",
          "exception": false,
          "start_time": "2023-07-10T05:29:54.548019",
          "status": "completed"
        },
        "tags": [],
        "id": "a0de801b"
      },
      "source": [
        "## Fit the grid search to the training data\n"
      ]
    },
    {
      "cell_type": "code",
      "execution_count": 27,
      "id": "b4b9223f",
      "metadata": {
        "execution": {
          "iopub.execute_input": "2023-07-10T05:29:54.660821Z",
          "iopub.status.busy": "2023-07-10T05:29:54.660407Z",
          "iopub.status.idle": "2023-07-10T05:29:54.851592Z",
          "shell.execute_reply": "2023-07-10T05:29:54.850777Z"
        },
        "papermill": {
          "duration": 0.232146,
          "end_time": "2023-07-10T05:29:54.853989",
          "exception": false,
          "start_time": "2023-07-10T05:29:54.621843",
          "status": "completed"
        },
        "tags": [],
        "colab": {
          "base_uri": "https://localhost:8080/",
          "height": 117
        },
        "id": "b4b9223f",
        "outputId": "6ec5ec22-437a-4edc-a74e-bfc5ef2ffd55"
      },
      "outputs": [
        {
          "output_type": "execute_result",
          "data": {
            "text/plain": [
              "GridSearchCV(cv=5, estimator=KNeighborsClassifier(),\n",
              "             param_grid={'n_neighbors': [3, 5, 7, 9]}, scoring='recall')"
            ],
            "text/html": [
              "<style>#sk-container-id-3 {color: black;background-color: white;}#sk-container-id-3 pre{padding: 0;}#sk-container-id-3 div.sk-toggleable {background-color: white;}#sk-container-id-3 label.sk-toggleable__label {cursor: pointer;display: block;width: 100%;margin-bottom: 0;padding: 0.3em;box-sizing: border-box;text-align: center;}#sk-container-id-3 label.sk-toggleable__label-arrow:before {content: \"▸\";float: left;margin-right: 0.25em;color: #696969;}#sk-container-id-3 label.sk-toggleable__label-arrow:hover:before {color: black;}#sk-container-id-3 div.sk-estimator:hover label.sk-toggleable__label-arrow:before {color: black;}#sk-container-id-3 div.sk-toggleable__content {max-height: 0;max-width: 0;overflow: hidden;text-align: left;background-color: #f0f8ff;}#sk-container-id-3 div.sk-toggleable__content pre {margin: 0.2em;color: black;border-radius: 0.25em;background-color: #f0f8ff;}#sk-container-id-3 input.sk-toggleable__control:checked~div.sk-toggleable__content {max-height: 200px;max-width: 100%;overflow: auto;}#sk-container-id-3 input.sk-toggleable__control:checked~label.sk-toggleable__label-arrow:before {content: \"▾\";}#sk-container-id-3 div.sk-estimator input.sk-toggleable__control:checked~label.sk-toggleable__label {background-color: #d4ebff;}#sk-container-id-3 div.sk-label input.sk-toggleable__control:checked~label.sk-toggleable__label {background-color: #d4ebff;}#sk-container-id-3 input.sk-hidden--visually {border: 0;clip: rect(1px 1px 1px 1px);clip: rect(1px, 1px, 1px, 1px);height: 1px;margin: -1px;overflow: hidden;padding: 0;position: absolute;width: 1px;}#sk-container-id-3 div.sk-estimator {font-family: monospace;background-color: #f0f8ff;border: 1px dotted black;border-radius: 0.25em;box-sizing: border-box;margin-bottom: 0.5em;}#sk-container-id-3 div.sk-estimator:hover {background-color: #d4ebff;}#sk-container-id-3 div.sk-parallel-item::after {content: \"\";width: 100%;border-bottom: 1px solid gray;flex-grow: 1;}#sk-container-id-3 div.sk-label:hover label.sk-toggleable__label {background-color: #d4ebff;}#sk-container-id-3 div.sk-serial::before {content: \"\";position: absolute;border-left: 1px solid gray;box-sizing: border-box;top: 0;bottom: 0;left: 50%;z-index: 0;}#sk-container-id-3 div.sk-serial {display: flex;flex-direction: column;align-items: center;background-color: white;padding-right: 0.2em;padding-left: 0.2em;position: relative;}#sk-container-id-3 div.sk-item {position: relative;z-index: 1;}#sk-container-id-3 div.sk-parallel {display: flex;align-items: stretch;justify-content: center;background-color: white;position: relative;}#sk-container-id-3 div.sk-item::before, #sk-container-id-3 div.sk-parallel-item::before {content: \"\";position: absolute;border-left: 1px solid gray;box-sizing: border-box;top: 0;bottom: 0;left: 50%;z-index: -1;}#sk-container-id-3 div.sk-parallel-item {display: flex;flex-direction: column;z-index: 1;position: relative;background-color: white;}#sk-container-id-3 div.sk-parallel-item:first-child::after {align-self: flex-end;width: 50%;}#sk-container-id-3 div.sk-parallel-item:last-child::after {align-self: flex-start;width: 50%;}#sk-container-id-3 div.sk-parallel-item:only-child::after {width: 0;}#sk-container-id-3 div.sk-dashed-wrapped {border: 1px dashed gray;margin: 0 0.4em 0.5em 0.4em;box-sizing: border-box;padding-bottom: 0.4em;background-color: white;}#sk-container-id-3 div.sk-label label {font-family: monospace;font-weight: bold;display: inline-block;line-height: 1.2em;}#sk-container-id-3 div.sk-label-container {text-align: center;}#sk-container-id-3 div.sk-container {/* jupyter's `normalize.less` sets `[hidden] { display: none; }` but bootstrap.min.css set `[hidden] { display: none !important; }` so we also need the `!important` here to be able to override the default hidden behavior on the sphinx rendered scikit-learn.org. See: https://github.com/scikit-learn/scikit-learn/issues/21755 */display: inline-block !important;position: relative;}#sk-container-id-3 div.sk-text-repr-fallback {display: none;}</style><div id=\"sk-container-id-3\" class=\"sk-top-container\"><div class=\"sk-text-repr-fallback\"><pre>GridSearchCV(cv=5, estimator=KNeighborsClassifier(),\n",
              "             param_grid={&#x27;n_neighbors&#x27;: [3, 5, 7, 9]}, scoring=&#x27;recall&#x27;)</pre><b>In a Jupyter environment, please rerun this cell to show the HTML representation or trust the notebook. <br />On GitHub, the HTML representation is unable to render, please try loading this page with nbviewer.org.</b></div><div class=\"sk-container\" hidden><div class=\"sk-item sk-dashed-wrapped\"><div class=\"sk-label-container\"><div class=\"sk-label sk-toggleable\"><input class=\"sk-toggleable__control sk-hidden--visually\" id=\"sk-estimator-id-5\" type=\"checkbox\" ><label for=\"sk-estimator-id-5\" class=\"sk-toggleable__label sk-toggleable__label-arrow\">GridSearchCV</label><div class=\"sk-toggleable__content\"><pre>GridSearchCV(cv=5, estimator=KNeighborsClassifier(),\n",
              "             param_grid={&#x27;n_neighbors&#x27;: [3, 5, 7, 9]}, scoring=&#x27;recall&#x27;)</pre></div></div></div><div class=\"sk-parallel\"><div class=\"sk-parallel-item\"><div class=\"sk-item\"><div class=\"sk-label-container\"><div class=\"sk-label sk-toggleable\"><input class=\"sk-toggleable__control sk-hidden--visually\" id=\"sk-estimator-id-6\" type=\"checkbox\" ><label for=\"sk-estimator-id-6\" class=\"sk-toggleable__label sk-toggleable__label-arrow\">estimator: KNeighborsClassifier</label><div class=\"sk-toggleable__content\"><pre>KNeighborsClassifier()</pre></div></div></div><div class=\"sk-serial\"><div class=\"sk-item\"><div class=\"sk-estimator sk-toggleable\"><input class=\"sk-toggleable__control sk-hidden--visually\" id=\"sk-estimator-id-7\" type=\"checkbox\" ><label for=\"sk-estimator-id-7\" class=\"sk-toggleable__label sk-toggleable__label-arrow\">KNeighborsClassifier</label><div class=\"sk-toggleable__content\"><pre>KNeighborsClassifier()</pre></div></div></div></div></div></div></div></div></div></div>"
            ]
          },
          "metadata": {},
          "execution_count": 27
        }
      ],
      "source": [
        "grid_search.fit(X_train, y_train)"
      ]
    },
    {
      "cell_type": "markdown",
      "id": "a41edaa7",
      "metadata": {
        "papermill": {
          "duration": 0.037652,
          "end_time": "2023-07-10T05:29:54.929665",
          "exception": false,
          "start_time": "2023-07-10T05:29:54.892013",
          "status": "completed"
        },
        "tags": [],
        "id": "a41edaa7"
      },
      "source": [
        "## Print the best parameters and score on validation data\n"
      ]
    },
    {
      "cell_type": "code",
      "execution_count": 28,
      "id": "46e5705b",
      "metadata": {
        "execution": {
          "iopub.execute_input": "2023-07-10T05:29:55.006247Z",
          "iopub.status.busy": "2023-07-10T05:29:55.005818Z",
          "iopub.status.idle": "2023-07-10T05:29:55.012250Z",
          "shell.execute_reply": "2023-07-10T05:29:55.010935Z"
        },
        "papermill": {
          "duration": 0.048114,
          "end_time": "2023-07-10T05:29:55.014561",
          "exception": false,
          "start_time": "2023-07-10T05:29:54.966447",
          "status": "completed"
        },
        "tags": [],
        "colab": {
          "base_uri": "https://localhost:8080/"
        },
        "id": "46e5705b",
        "outputId": "e0bcb152-834f-43b1-81bd-203b2875b99a"
      },
      "outputs": [
        {
          "output_type": "stream",
          "name": "stdout",
          "text": [
            "Best Parameters:  {'n_neighbors': 9}\n",
            "Best Score:  0.97\n"
          ]
        }
      ],
      "source": [
        "print(\"Best Parameters: \", grid_search.best_params_)\n",
        "print(\"Best Score: \", grid_search.best_score_)"
      ]
    },
    {
      "cell_type": "markdown",
      "id": "711cea8d",
      "metadata": {
        "papermill": {
          "duration": 0.03661,
          "end_time": "2023-07-10T05:29:55.089551",
          "exception": false,
          "start_time": "2023-07-10T05:29:55.052941",
          "status": "completed"
        },
        "tags": [],
        "id": "711cea8d"
      },
      "source": [
        "### Get the predicted labels on the test data using the best estimator:\n"
      ]
    },
    {
      "cell_type": "code",
      "execution_count": 29,
      "id": "9e11e862",
      "metadata": {
        "execution": {
          "iopub.execute_input": "2023-07-10T05:29:55.166938Z",
          "iopub.status.busy": "2023-07-10T05:29:55.166036Z",
          "iopub.status.idle": "2023-07-10T05:29:55.177997Z",
          "shell.execute_reply": "2023-07-10T05:29:55.177080Z"
        },
        "papermill": {
          "duration": 0.053475,
          "end_time": "2023-07-10T05:29:55.180455",
          "exception": false,
          "start_time": "2023-07-10T05:29:55.126980",
          "status": "completed"
        },
        "tags": [],
        "id": "9e11e862"
      },
      "outputs": [],
      "source": [
        "y_pred = grid_search.best_estimator_.predict(X_test)"
      ]
    },
    {
      "cell_type": "markdown",
      "id": "09531e98",
      "metadata": {
        "papermill": {
          "duration": 0.03713,
          "end_time": "2023-07-10T05:29:55.256546",
          "exception": false,
          "start_time": "2023-07-10T05:29:55.219416",
          "status": "completed"
        },
        "tags": [],
        "id": "09531e98"
      },
      "source": [
        "## Calculate the recall score on the test data using the predicted labels:\n"
      ]
    },
    {
      "cell_type": "code",
      "execution_count": 30,
      "id": "75aed864",
      "metadata": {
        "execution": {
          "iopub.execute_input": "2023-07-10T05:29:55.331789Z",
          "iopub.status.busy": "2023-07-10T05:29:55.331424Z",
          "iopub.status.idle": "2023-07-10T05:29:55.340570Z",
          "shell.execute_reply": "2023-07-10T05:29:55.339479Z"
        },
        "papermill": {
          "duration": 0.049347,
          "end_time": "2023-07-10T05:29:55.342694",
          "exception": false,
          "start_time": "2023-07-10T05:29:55.293347",
          "status": "completed"
        },
        "tags": [],
        "colab": {
          "base_uri": "https://localhost:8080/"
        },
        "id": "75aed864",
        "outputId": "4cf77445-9d9f-48d3-9cc1-1c2f01bfbe73"
      },
      "outputs": [
        {
          "output_type": "execute_result",
          "data": {
            "text/plain": [
              "0.9148936170212766"
            ]
          },
          "metadata": {},
          "execution_count": 30
        }
      ],
      "source": [
        "from sklearn.metrics import recall_score\n",
        "recall = recall_score(y_test, y_pred)\n",
        "\n",
        "recall"
      ]
    },
    {
      "cell_type": "markdown",
      "id": "216198ee",
      "metadata": {
        "papermill": {
          "duration": 0.038964,
          "end_time": "2023-07-10T05:29:55.419831",
          "exception": false,
          "start_time": "2023-07-10T05:29:55.380867",
          "status": "completed"
        },
        "tags": [],
        "id": "216198ee"
      },
      "source": [
        "### we can make a prediction\n"
      ]
    },
    {
      "cell_type": "code",
      "execution_count": 31,
      "id": "4a65f8ec",
      "metadata": {
        "execution": {
          "iopub.execute_input": "2023-07-10T05:29:55.497300Z",
          "iopub.status.busy": "2023-07-10T05:29:55.496864Z",
          "iopub.status.idle": "2023-07-10T05:29:55.515434Z",
          "shell.execute_reply": "2023-07-10T05:29:55.514586Z"
        },
        "papermill": {
          "duration": 0.060452,
          "end_time": "2023-07-10T05:29:55.518135",
          "exception": false,
          "start_time": "2023-07-10T05:29:55.457683",
          "status": "completed"
        },
        "tags": [],
        "id": "4a65f8ec"
      },
      "outputs": [],
      "source": [
        "y_hat = grid_search.best_estimator_.predict(X)"
      ]
    },
    {
      "cell_type": "markdown",
      "id": "e370dd8f",
      "metadata": {
        "papermill": {
          "duration": 0.03755,
          "end_time": "2023-07-10T05:29:55.594370",
          "exception": false,
          "start_time": "2023-07-10T05:29:55.556820",
          "status": "completed"
        },
        "tags": [],
        "id": "e370dd8f"
      },
      "source": [
        "### Now we use all our data to train the model\n"
      ]
    },
    {
      "cell_type": "code",
      "execution_count": 32,
      "id": "2d85463e",
      "metadata": {
        "execution": {
          "iopub.execute_input": "2023-07-10T05:29:55.672640Z",
          "iopub.status.busy": "2023-07-10T05:29:55.671400Z",
          "iopub.status.idle": "2023-07-10T05:29:55.682207Z",
          "shell.execute_reply": "2023-07-10T05:29:55.681006Z"
        },
        "papermill": {
          "duration": 0.052026,
          "end_time": "2023-07-10T05:29:55.684360",
          "exception": false,
          "start_time": "2023-07-10T05:29:55.632334",
          "status": "completed"
        },
        "tags": [],
        "colab": {
          "base_uri": "https://localhost:8080/",
          "height": 74
        },
        "id": "2d85463e",
        "outputId": "3a96d209-f787-44a7-e936-099759935c06"
      },
      "outputs": [
        {
          "output_type": "execute_result",
          "data": {
            "text/plain": [
              "KNeighborsClassifier()"
            ],
            "text/html": [
              "<style>#sk-container-id-4 {color: black;background-color: white;}#sk-container-id-4 pre{padding: 0;}#sk-container-id-4 div.sk-toggleable {background-color: white;}#sk-container-id-4 label.sk-toggleable__label {cursor: pointer;display: block;width: 100%;margin-bottom: 0;padding: 0.3em;box-sizing: border-box;text-align: center;}#sk-container-id-4 label.sk-toggleable__label-arrow:before {content: \"▸\";float: left;margin-right: 0.25em;color: #696969;}#sk-container-id-4 label.sk-toggleable__label-arrow:hover:before {color: black;}#sk-container-id-4 div.sk-estimator:hover label.sk-toggleable__label-arrow:before {color: black;}#sk-container-id-4 div.sk-toggleable__content {max-height: 0;max-width: 0;overflow: hidden;text-align: left;background-color: #f0f8ff;}#sk-container-id-4 div.sk-toggleable__content pre {margin: 0.2em;color: black;border-radius: 0.25em;background-color: #f0f8ff;}#sk-container-id-4 input.sk-toggleable__control:checked~div.sk-toggleable__content {max-height: 200px;max-width: 100%;overflow: auto;}#sk-container-id-4 input.sk-toggleable__control:checked~label.sk-toggleable__label-arrow:before {content: \"▾\";}#sk-container-id-4 div.sk-estimator input.sk-toggleable__control:checked~label.sk-toggleable__label {background-color: #d4ebff;}#sk-container-id-4 div.sk-label input.sk-toggleable__control:checked~label.sk-toggleable__label {background-color: #d4ebff;}#sk-container-id-4 input.sk-hidden--visually {border: 0;clip: rect(1px 1px 1px 1px);clip: rect(1px, 1px, 1px, 1px);height: 1px;margin: -1px;overflow: hidden;padding: 0;position: absolute;width: 1px;}#sk-container-id-4 div.sk-estimator {font-family: monospace;background-color: #f0f8ff;border: 1px dotted black;border-radius: 0.25em;box-sizing: border-box;margin-bottom: 0.5em;}#sk-container-id-4 div.sk-estimator:hover {background-color: #d4ebff;}#sk-container-id-4 div.sk-parallel-item::after {content: \"\";width: 100%;border-bottom: 1px solid gray;flex-grow: 1;}#sk-container-id-4 div.sk-label:hover label.sk-toggleable__label {background-color: #d4ebff;}#sk-container-id-4 div.sk-serial::before {content: \"\";position: absolute;border-left: 1px solid gray;box-sizing: border-box;top: 0;bottom: 0;left: 50%;z-index: 0;}#sk-container-id-4 div.sk-serial {display: flex;flex-direction: column;align-items: center;background-color: white;padding-right: 0.2em;padding-left: 0.2em;position: relative;}#sk-container-id-4 div.sk-item {position: relative;z-index: 1;}#sk-container-id-4 div.sk-parallel {display: flex;align-items: stretch;justify-content: center;background-color: white;position: relative;}#sk-container-id-4 div.sk-item::before, #sk-container-id-4 div.sk-parallel-item::before {content: \"\";position: absolute;border-left: 1px solid gray;box-sizing: border-box;top: 0;bottom: 0;left: 50%;z-index: -1;}#sk-container-id-4 div.sk-parallel-item {display: flex;flex-direction: column;z-index: 1;position: relative;background-color: white;}#sk-container-id-4 div.sk-parallel-item:first-child::after {align-self: flex-end;width: 50%;}#sk-container-id-4 div.sk-parallel-item:last-child::after {align-self: flex-start;width: 50%;}#sk-container-id-4 div.sk-parallel-item:only-child::after {width: 0;}#sk-container-id-4 div.sk-dashed-wrapped {border: 1px dashed gray;margin: 0 0.4em 0.5em 0.4em;box-sizing: border-box;padding-bottom: 0.4em;background-color: white;}#sk-container-id-4 div.sk-label label {font-family: monospace;font-weight: bold;display: inline-block;line-height: 1.2em;}#sk-container-id-4 div.sk-label-container {text-align: center;}#sk-container-id-4 div.sk-container {/* jupyter's `normalize.less` sets `[hidden] { display: none; }` but bootstrap.min.css set `[hidden] { display: none !important; }` so we also need the `!important` here to be able to override the default hidden behavior on the sphinx rendered scikit-learn.org. See: https://github.com/scikit-learn/scikit-learn/issues/21755 */display: inline-block !important;position: relative;}#sk-container-id-4 div.sk-text-repr-fallback {display: none;}</style><div id=\"sk-container-id-4\" class=\"sk-top-container\"><div class=\"sk-text-repr-fallback\"><pre>KNeighborsClassifier()</pre><b>In a Jupyter environment, please rerun this cell to show the HTML representation or trust the notebook. <br />On GitHub, the HTML representation is unable to render, please try loading this page with nbviewer.org.</b></div><div class=\"sk-container\" hidden><div class=\"sk-item\"><div class=\"sk-estimator sk-toggleable\"><input class=\"sk-toggleable__control sk-hidden--visually\" id=\"sk-estimator-id-8\" type=\"checkbox\" checked><label for=\"sk-estimator-id-8\" class=\"sk-toggleable__label sk-toggleable__label-arrow\">KNeighborsClassifier</label><div class=\"sk-toggleable__content\"><pre>KNeighborsClassifier()</pre></div></div></div></div></div>"
            ]
          },
          "metadata": {},
          "execution_count": 32
        }
      ],
      "source": [
        "knn = KNeighborsClassifier()\n",
        "knn.fit(X,y)"
      ]
    },
    {
      "cell_type": "markdown",
      "id": "69f4f073",
      "metadata": {
        "papermill": {
          "duration": 0.038235,
          "end_time": "2023-07-10T05:29:55.760893",
          "exception": false,
          "start_time": "2023-07-10T05:29:55.722658",
          "status": "completed"
        },
        "tags": [],
        "id": "69f4f073"
      },
      "source": [
        "### let's study our predictions  \n"
      ]
    },
    {
      "cell_type": "code",
      "execution_count": 33,
      "id": "eeacdb89",
      "metadata": {
        "execution": {
          "iopub.execute_input": "2023-07-10T05:29:55.839243Z",
          "iopub.status.busy": "2023-07-10T05:29:55.838855Z",
          "iopub.status.idle": "2023-07-10T05:29:55.864761Z",
          "shell.execute_reply": "2023-07-10T05:29:55.863549Z"
        },
        "papermill": {
          "duration": 0.068506,
          "end_time": "2023-07-10T05:29:55.867536",
          "exception": false,
          "start_time": "2023-07-10T05:29:55.799030",
          "status": "completed"
        },
        "tags": [],
        "id": "eeacdb89"
      },
      "outputs": [],
      "source": [
        "y_hat =knn.predict(X)"
      ]
    },
    {
      "cell_type": "markdown",
      "id": "e9629f27",
      "metadata": {
        "papermill": {
          "duration": 0.037446,
          "end_time": "2023-07-10T05:29:55.944201",
          "exception": false,
          "start_time": "2023-07-10T05:29:55.906755",
          "status": "completed"
        },
        "tags": [],
        "id": "e9629f27"
      },
      "source": [
        "### we can plot the confusion matrix\n"
      ]
    },
    {
      "cell_type": "code",
      "execution_count": 34,
      "id": "a02bc9bd",
      "metadata": {
        "execution": {
          "iopub.execute_input": "2023-07-10T05:29:56.021757Z",
          "iopub.status.busy": "2023-07-10T05:29:56.021294Z",
          "iopub.status.idle": "2023-07-10T05:29:56.462415Z",
          "shell.execute_reply": "2023-07-10T05:29:56.461418Z"
        },
        "papermill": {
          "duration": 0.482235,
          "end_time": "2023-07-10T05:29:56.464654",
          "exception": false,
          "start_time": "2023-07-10T05:29:55.982419",
          "status": "completed"
        },
        "tags": [],
        "colab": {
          "base_uri": "https://localhost:8080/",
          "height": 556
        },
        "id": "a02bc9bd",
        "outputId": "ad104dd0-f549-4de6-a6ca-09a8482045a7"
      },
      "outputs": [
        {
          "output_type": "stream",
          "name": "stdout",
          "text": [
            "Confusion matrix, without normalization\n",
            "[[ 32  16]\n",
            " [  5 142]]\n"
          ]
        },
        {
          "output_type": "display_data",
          "data": {
            "text/plain": [
              "<Figure size 640x480 with 2 Axes>"
            ],
            "image/png": "[encoded data removed]"
          },
          "metadata": {}
        }
      ],
      "source": [
        "plot_confusion_matrix(confusion_matrix(y, y_hat),classes=[ \"Not Parkinson\", \" Parkinson\"],title='Confusion matrix')"
      ]
    },
    {
      "cell_type": "markdown",
      "id": "cba8c339",
      "metadata": {
        "papermill": {
          "duration": 0.038258,
          "end_time": "2023-07-10T05:29:56.542058",
          "exception": false,
          "start_time": "2023-07-10T05:29:56.503800",
          "status": "completed"
        },
        "tags": [],
        "id": "cba8c339"
      },
      "source": [
        "### let's label true positives, false positives, true negatives, and false negatives\n"
      ]
    },
    {
      "cell_type": "markdown",
      "id": "ff822333",
      "metadata": {
        "papermill": {
          "duration": 0.037865,
          "end_time": "2023-07-10T05:29:56.618670",
          "exception": false,
          "start_time": "2023-07-10T05:29:56.580805",
          "status": "completed"
        },
        "tags": [],
        "id": "ff822333"
      },
      "source": [
        "# Machine Learning Interpretability\n",
        "## Machine learning interpretability refers to the ability to understand and explain how a machine learning model arrives at its predictions or decisions. It is an important aspect of machine learning because it enables users to gain insight into how a model works, assess its strengths and limitations, and identify potential issues such as bias, errors, or overfitting. Interpretability can be achieved through a variety of techniques such as visualizations, feature importance scores, model-agnostic methods, and explanations of specific decisions.\n",
        "## T-SNE can be used for machine learning interpretability by visualizing high-dimensional data in a two-dimensional space.  For example, in the context of clustering, t-SNE can be used to visualize the clusters in a two-dimensional space, making it easier to identify patterns and relationships between the data points. This can help to identify outliers, clusters that are not well-separated, and potentially interesting subsets of the data that may warrant further investigation. Let's label our predictions\n"
      ]
    },
    {
      "cell_type": "code",
      "execution_count": 35,
      "id": "03f9fd41",
      "metadata": {
        "execution": {
          "iopub.execute_input": "2023-07-10T05:29:56.699857Z",
          "iopub.status.busy": "2023-07-10T05:29:56.699421Z",
          "iopub.status.idle": "2023-07-10T05:29:56.712860Z",
          "shell.execute_reply": "2023-07-10T05:29:56.711952Z"
        },
        "papermill": {
          "duration": 0.057703,
          "end_time": "2023-07-10T05:29:56.715118",
          "exception": false,
          "start_time": "2023-07-10T05:29:56.657415",
          "status": "completed"
        },
        "tags": [],
        "id": "03f9fd41"
      },
      "outputs": [],
      "source": [
        "# find true positives(tp)\n",
        "tsne_df['label']=''\n",
        "tsne_df['label'].iloc[np.where((y_hat == 1) & (y == 1))]=\"TP\"\n",
        "# find true negatives (tn)\n",
        "tsne_df['label'].iloc[np.where((y_hat == 0) & (y == 0))]=\"TN\"\n",
        "# find false positives (fp)\n",
        "tsne_df['label'].iloc[np.where((y_hat == 1) & (y == 0))]=\"FP\"\n",
        "# find false negatives (fp)\n",
        "tsne_df['label'].iloc[np.where((y_hat == 0) & (y == 1))]=\"FN\""
      ]
    },
    {
      "cell_type": "markdown",
      "id": "93547a43",
      "metadata": {
        "papermill": {
          "duration": 0.038487,
          "end_time": "2023-07-10T05:29:56.792356",
          "exception": false,
          "start_time": "2023-07-10T05:29:56.753869",
          "status": "completed"
        },
        "tags": [],
        "id": "93547a43"
      },
      "source": [
        "## Let's plot the data, with the labeled predictions\n"
      ]
    },
    {
      "cell_type": "code",
      "execution_count": 36,
      "id": "fd240274",
      "metadata": {
        "execution": {
          "iopub.execute_input": "2023-07-10T05:29:56.872177Z",
          "iopub.status.busy": "2023-07-10T05:29:56.871767Z",
          "iopub.status.idle": "2023-07-10T05:29:57.574013Z",
          "shell.execute_reply": "2023-07-10T05:29:57.572894Z"
        },
        "papermill": {
          "duration": 0.745441,
          "end_time": "2023-07-10T05:29:57.576415",
          "exception": false,
          "start_time": "2023-07-10T05:29:56.830974",
          "status": "completed"
        },
        "tags": [],
        "colab": {
          "base_uri": "https://localhost:8080/",
          "height": 573
        },
        "id": "fd240274",
        "outputId": "43fd57ca-aa75-4c17-f09f-5df6fe381128"
      },
      "outputs": [
        {
          "output_type": "display_data",
          "data": {
            "text/plain": [
              "<Figure size 800x600 with 1 Axes>"
            ],
            "image/png": "[encoded data removed]"
          },
          "metadata": {}
        }
      ],
      "source": [
        "plt.figure(figsize=(8, 6))\n",
        "sns.scatterplot(data=tsne_df, x='TSNE1', y='TSNE2', hue='Class', palette='Set2',style='label')\n",
        "plt.title('t-SNE Visualization')\n",
        "plt.show()"
      ]
    },
    {
      "cell_type": "markdown",
      "id": "bb3288e8",
      "metadata": {
        "papermill": {
          "duration": 0.03779,
          "end_time": "2023-07-10T05:29:57.652456",
          "exception": false,
          "start_time": "2023-07-10T05:29:57.614666",
          "status": "completed"
        },
        "tags": [],
        "id": "bb3288e8"
      },
      "source": [
        "## From the plot, we see most of the errors are confined to specific clusters. We can apply clustering to our data before we classify the data, but let's try several other models. Here are several more libraries for Machine Learning Interpretability\n"
      ]
    },
    {
      "cell_type": "markdown",
      "id": "c73480f4",
      "metadata": {
        "papermill": {
          "duration": 0.038188,
          "end_time": "2023-07-10T05:29:57.728507",
          "exception": false,
          "start_time": "2023-07-10T05:29:57.690319",
          "status": "completed"
        },
        "tags": [],
        "id": "c73480f4"
      },
      "source": [
        "<ul>\n",
        "  <li><a href=\"https://github.com/slundberg/shap\">SHAP</a></li>\n",
        "  <li><a href=\"https://github.com/marcotcr/lime\">LIME</a></li>\n",
        "  <li><a href=\"https://github.com/oracle/Skater\">Skater</a></li>\n",
        "  <li><a href=\"https://github.com/microsoft/interpret\">Microsoft InterpretML</a></li>\n",
        "  <li><a href=\"https://github.com/interpretml/interpret-text\">Interpret-text</a></li>\n",
        "  <li><a href=\"https://github.com/interpretml/interpret-core\">Interpret-core</a></li>\n",
        "  <li><a href=\"https://github.com/surrey-unplugged/saliency\">Saliency</a></li>\n",
        "  <li><a href=\"https://github.com/PAIR-code/facets\">Facets</a></li>\n",
        "  <li><a href=\"https://github.com/marcotcr/photonai\">Photonai</a></li>\n",
        "</ul>\n"
      ]
    },
    {
      "cell_type": "markdown",
      "id": "215b1a6d",
      "metadata": {
        "papermill": {
          "duration": 0.038588,
          "end_time": "2023-07-10T05:29:57.805865",
          "exception": false,
          "start_time": "2023-07-10T05:29:57.767277",
          "status": "completed"
        },
        "tags": [],
        "id": "215b1a6d"
      },
      "source": [
        "# Logistic Regression\n"
      ]
    },
    {
      "cell_type": "markdown",
      "id": "b79f0247",
      "metadata": {
        "papermill": {
          "duration": 0.040089,
          "end_time": "2023-07-10T05:29:57.885825",
          "exception": false,
          "start_time": "2023-07-10T05:29:57.845736",
          "status": "completed"
        },
        "tags": [],
        "id": "b79f0247"
      },
      "source": [
        "## here's an example code for fitting a logistic regression model using scikit-learn, it's almost identical to K-NN , first we import ```LogisticRegression```\n"
      ]
    },
    {
      "cell_type": "code",
      "execution_count": 37,
      "id": "f07afde8",
      "metadata": {
        "execution": {
          "iopub.execute_input": "2023-07-10T05:29:57.966056Z",
          "iopub.status.busy": "2023-07-10T05:29:57.965601Z",
          "iopub.status.idle": "2023-07-10T05:29:57.970817Z",
          "shell.execute_reply": "2023-07-10T05:29:57.969728Z"
        },
        "papermill": {
          "duration": 0.047009,
          "end_time": "2023-07-10T05:29:57.973109",
          "exception": false,
          "start_time": "2023-07-10T05:29:57.926100",
          "status": "completed"
        },
        "tags": [],
        "id": "f07afde8"
      },
      "outputs": [],
      "source": [
        "from sklearn.linear_model import LogisticRegression"
      ]
    },
    {
      "cell_type": "markdown",
      "id": "e2ec1d32",
      "metadata": {
        "papermill": {
          "duration": 0.038666,
          "end_time": "2023-07-10T05:29:58.049417",
          "exception": false,
          "start_time": "2023-07-10T05:29:58.010751",
          "status": "completed"
        },
        "tags": [],
        "id": "e2ec1d32"
      },
      "source": [
        " ## We create and fit logistic regression model ```lr``` and fit it\n"
      ]
    },
    {
      "cell_type": "code",
      "execution_count": 38,
      "id": "e1ed68f3",
      "metadata": {
        "execution": {
          "iopub.execute_input": "2023-07-10T05:29:58.128346Z",
          "iopub.status.busy": "2023-07-10T05:29:58.127913Z",
          "iopub.status.idle": "2023-07-10T05:29:58.159586Z",
          "shell.execute_reply": "2023-07-10T05:29:58.158529Z"
        },
        "papermill": {
          "duration": 0.074326,
          "end_time": "2023-07-10T05:29:58.162094",
          "exception": false,
          "start_time": "2023-07-10T05:29:58.087768",
          "status": "completed"
        },
        "tags": [],
        "colab": {
          "base_uri": "https://localhost:8080/",
          "height": 74
        },
        "id": "e1ed68f3",
        "outputId": "9a493ae6-d864-4a56-a1b8-64dfca7dc29b"
      },
      "outputs": [
        {
          "output_type": "execute_result",
          "data": {
            "text/plain": [
              "LogisticRegression()"
            ],
            "text/html": [
              "<style>#sk-container-id-5 {color: black;background-color: white;}#sk-container-id-5 pre{padding: 0;}#sk-container-id-5 div.sk-toggleable {background-color: white;}#sk-container-id-5 label.sk-toggleable__label {cursor: pointer;display: block;width: 100%;margin-bottom: 0;padding: 0.3em;box-sizing: border-box;text-align: center;}#sk-container-id-5 label.sk-toggleable__label-arrow:before {content: \"▸\";float: left;margin-right: 0.25em;color: #696969;}#sk-container-id-5 label.sk-toggleable__label-arrow:hover:before {color: black;}#sk-container-id-5 div.sk-estimator:hover label.sk-toggleable__label-arrow:before {color: black;}#sk-container-id-5 div.sk-toggleable__content {max-height: 0;max-width: 0;overflow: hidden;text-align: left;background-color: #f0f8ff;}#sk-container-id-5 div.sk-toggleable__content pre {margin: 0.2em;color: black;border-radius: 0.25em;background-color: #f0f8ff;}#sk-container-id-5 input.sk-toggleable__control:checked~div.sk-toggleable__content {max-height: 200px;max-width: 100%;overflow: auto;}#sk-container-id-5 input.sk-toggleable__control:checked~label.sk-toggleable__label-arrow:before {content: \"▾\";}#sk-container-id-5 div.sk-estimator input.sk-toggleable__control:checked~label.sk-toggleable__label {background-color: #d4ebff;}#sk-container-id-5 div.sk-label input.sk-toggleable__control:checked~label.sk-toggleable__label {background-color: #d4ebff;}#sk-container-id-5 input.sk-hidden--visually {border: 0;clip: rect(1px 1px 1px 1px);clip: rect(1px, 1px, 1px, 1px);height: 1px;margin: -1px;overflow: hidden;padding: 0;position: absolute;width: 1px;}#sk-container-id-5 div.sk-estimator {font-family: monospace;background-color: #f0f8ff;border: 1px dotted black;border-radius: 0.25em;box-sizing: border-box;margin-bottom: 0.5em;}#sk-container-id-5 div.sk-estimator:hover {background-color: #d4ebff;}#sk-container-id-5 div.sk-parallel-item::after {content: \"\";width: 100%;border-bottom: 1px solid gray;flex-grow: 1;}#sk-container-id-5 div.sk-label:hover label.sk-toggleable__label {background-color: #d4ebff;}#sk-container-id-5 div.sk-serial::before {content: \"\";position: absolute;border-left: 1px solid gray;box-sizing: border-box;top: 0;bottom: 0;left: 50%;z-index: 0;}#sk-container-id-5 div.sk-serial {display: flex;flex-direction: column;align-items: center;background-color: white;padding-right: 0.2em;padding-left: 0.2em;position: relative;}#sk-container-id-5 div.sk-item {position: relative;z-index: 1;}#sk-container-id-5 div.sk-parallel {display: flex;align-items: stretch;justify-content: center;background-color: white;position: relative;}#sk-container-id-5 div.sk-item::before, #sk-container-id-5 div.sk-parallel-item::before {content: \"\";position: absolute;border-left: 1px solid gray;box-sizing: border-box;top: 0;bottom: 0;left: 50%;z-index: -1;}#sk-container-id-5 div.sk-parallel-item {display: flex;flex-direction: column;z-index: 1;position: relative;background-color: white;}#sk-container-id-5 div.sk-parallel-item:first-child::after {align-self: flex-end;width: 50%;}#sk-container-id-5 div.sk-parallel-item:last-child::after {align-self: flex-start;width: 50%;}#sk-container-id-5 div.sk-parallel-item:only-child::after {width: 0;}#sk-container-id-5 div.sk-dashed-wrapped {border: 1px dashed gray;margin: 0 0.4em 0.5em 0.4em;box-sizing: border-box;padding-bottom: 0.4em;background-color: white;}#sk-container-id-5 div.sk-label label {font-family: monospace;font-weight: bold;display: inline-block;line-height: 1.2em;}#sk-container-id-5 div.sk-label-container {text-align: center;}#sk-container-id-5 div.sk-container {/* jupyter's `normalize.less` sets `[hidden] { display: none; }` but bootstrap.min.css set `[hidden] { display: none !important; }` so we also need the `!important` here to be able to override the default hidden behavior on the sphinx rendered scikit-learn.org. See: https://github.com/scikit-learn/scikit-learn/issues/21755 */display: inline-block !important;position: relative;}#sk-container-id-5 div.sk-text-repr-fallback {display: none;}</style><div id=\"sk-container-id-5\" class=\"sk-top-container\"><div class=\"sk-text-repr-fallback\"><pre>LogisticRegression()</pre><b>In a Jupyter environment, please rerun this cell to show the HTML representation or trust the notebook. <br />On GitHub, the HTML representation is unable to render, please try loading this page with nbviewer.org.</b></div><div class=\"sk-container\" hidden><div class=\"sk-item\"><div class=\"sk-estimator sk-toggleable\"><input class=\"sk-toggleable__control sk-hidden--visually\" id=\"sk-estimator-id-9\" type=\"checkbox\" checked><label for=\"sk-estimator-id-9\" class=\"sk-toggleable__label sk-toggleable__label-arrow\">LogisticRegression</label><div class=\"sk-toggleable__content\"><pre>LogisticRegression()</pre></div></div></div></div></div>"
            ]
          },
          "metadata": {},
          "execution_count": 38
        }
      ],
      "source": [
        "lr = LogisticRegression()\n",
        "lr.fit(X_train, y_train)"
      ]
    },
    {
      "cell_type": "markdown",
      "id": "82836e95",
      "metadata": {
        "papermill": {
          "duration": 0.037876,
          "end_time": "2023-07-10T05:29:58.238467",
          "exception": false,
          "start_time": "2023-07-10T05:29:58.200591",
          "status": "completed"
        },
        "tags": [],
        "id": "82836e95"
      },
      "source": [
        "## we can make a prediction on the first ten samples\n"
      ]
    },
    {
      "cell_type": "code",
      "execution_count": 39,
      "id": "f942f1ec",
      "metadata": {
        "execution": {
          "iopub.execute_input": "2023-07-10T05:29:58.317710Z",
          "iopub.status.busy": "2023-07-10T05:29:58.317150Z",
          "iopub.status.idle": "2023-07-10T05:29:58.326549Z",
          "shell.execute_reply": "2023-07-10T05:29:58.325357Z"
        },
        "papermill": {
          "duration": 0.05207,
          "end_time": "2023-07-10T05:29:58.328859",
          "exception": false,
          "start_time": "2023-07-10T05:29:58.276789",
          "status": "completed"
        },
        "tags": [],
        "colab": {
          "base_uri": "https://localhost:8080/"
        },
        "id": "f942f1ec",
        "outputId": "4007dc50-255d-4912-f1e4-dc8a515cb0bd"
      },
      "outputs": [
        {
          "output_type": "execute_result",
          "data": {
            "text/plain": [
              "array([1, 0, 1, 1, 1, 1, 1, 0, 0, 0])"
            ]
          },
          "metadata": {},
          "execution_count": 39
        }
      ],
      "source": [
        "y_pred = lr.predict(X_test)\n",
        "y_pred[0:10]"
      ]
    },
    {
      "cell_type": "markdown",
      "id": "59662696",
      "metadata": {
        "papermill": {
          "duration": 0.03884,
          "end_time": "2023-07-10T05:29:58.407251",
          "exception": false,
          "start_time": "2023-07-10T05:29:58.368411",
          "status": "completed"
        },
        "tags": [],
        "id": "59662696"
      },
      "source": [
        "## We can get a probability of belonging to a each class for each sample, here are the first ten\n"
      ]
    },
    {
      "cell_type": "code",
      "execution_count": 40,
      "id": "e778d791",
      "metadata": {
        "execution": {
          "iopub.execute_input": "2023-07-10T05:29:58.491244Z",
          "iopub.status.busy": "2023-07-10T05:29:58.490830Z",
          "iopub.status.idle": "2023-07-10T05:29:58.500586Z",
          "shell.execute_reply": "2023-07-10T05:29:58.499544Z"
        },
        "papermill": {
          "duration": 0.053902,
          "end_time": "2023-07-10T05:29:58.502923",
          "exception": false,
          "start_time": "2023-07-10T05:29:58.449021",
          "status": "completed"
        },
        "tags": [],
        "colab": {
          "base_uri": "https://localhost:8080/"
        },
        "id": "e778d791",
        "outputId": "11902106-3537-455a-eee1-2b404357d19b"
      },
      "outputs": [
        {
          "output_type": "execute_result",
          "data": {
            "text/plain": [
              "array([[0.26796849, 0.73203151],\n",
              "       [0.69161219, 0.30838781],\n",
              "       [0.06764952, 0.93235048],\n",
              "       [0.38588988, 0.61411012],\n",
              "       [0.07237225, 0.92762775],\n",
              "       [0.26252443, 0.73747557],\n",
              "       [0.00912184, 0.99087816],\n",
              "       [0.5108703 , 0.4891297 ],\n",
              "       [0.85915321, 0.14084679],\n",
              "       [0.90263876, 0.09736124]])"
            ]
          },
          "metadata": {},
          "execution_count": 40
        }
      ],
      "source": [
        "lr.predict_proba(X_test)[0:10]\n"
      ]
    },
    {
      "cell_type": "markdown",
      "id": "32f15f15",
      "metadata": {
        "papermill": {
          "duration": 0.040223,
          "end_time": "2023-07-10T05:29:58.583648",
          "exception": false,
          "start_time": "2023-07-10T05:29:58.543425",
          "status": "completed"
        },
        "tags": [],
        "id": "32f15f15"
      },
      "source": [
        "## We can display the confusion matrix as well as a classification report\n"
      ]
    },
    {
      "cell_type": "code",
      "execution_count": 41,
      "id": "7b4fd9af",
      "metadata": {
        "execution": {
          "iopub.execute_input": "2023-07-10T05:29:58.666427Z",
          "iopub.status.busy": "2023-07-10T05:29:58.665389Z",
          "iopub.status.idle": "2023-07-10T05:29:59.114813Z",
          "shell.execute_reply": "2023-07-10T05:29:59.113727Z"
        },
        "papermill": {
          "duration": 0.493757,
          "end_time": "2023-07-10T05:29:59.117213",
          "exception": false,
          "start_time": "2023-07-10T05:29:58.623456",
          "status": "completed"
        },
        "tags": [],
        "colab": {
          "base_uri": "https://localhost:8080/",
          "height": 782
        },
        "id": "7b4fd9af",
        "outputId": "1a32b61e-7308-4b99-95cf-c121660faf43"
      },
      "outputs": [
        {
          "output_type": "stream",
          "name": "stdout",
          "text": [
            "Confusion matrix, without normalization\n",
            "[[ 9  3]\n",
            " [ 6 41]]\n",
            "\n",
            "Classification Report:\n",
            "               precision    recall  f1-score   support\n",
            "\n",
            "           0       0.60      0.75      0.67        12\n",
            "           1       0.93      0.87      0.90        47\n",
            "\n",
            "    accuracy                           0.85        59\n",
            "   macro avg       0.77      0.81      0.78        59\n",
            "weighted avg       0.86      0.85      0.85        59\n",
            "\n",
            "\n",
            "Accuracy Score: 0.847457627118644\n"
          ]
        },
        {
          "output_type": "display_data",
          "data": {
            "text/plain": [
              "<Figure size 640x480 with 2 Axes>"
            ],
            "image/png": "[encoded data removed]"
          },
          "metadata": {}
        }
      ],
      "source": [
        "plot_confusion_matrix(confusion_matrix(y_test, y_pred),classes=[ \"Not Parkinson\", \" Parkinson\"],title='Confusion matrix')\n",
        "print(\"\\nClassification Report:\\n\", classification_report(y_test, y_pred))\n",
        "print(\"\\nAccuracy Score:\", accuracy_score(y_test, y_pred))"
      ]
    },
    {
      "cell_type": "markdown",
      "id": "e16cfa65",
      "metadata": {
        "papermill": {
          "duration": 0.039457,
          "end_time": "2023-07-10T05:29:59.196943",
          "exception": false,
          "start_time": "2023-07-10T05:29:59.157486",
          "status": "completed"
        },
        "tags": [],
        "id": "e16cfa65"
      },
      "source": [
        "## While grid search can be used to optimize hyperparameters for many machine learning algorithms, the hyperparameters in logistic regression may not be particularly insightful. Instead, we can use logistic regression to identify feature importance, as the coefficients learned during training can reveal which features are most strongly associated with the target variable. We can obtain the coefficients.\n"
      ]
    },
    {
      "cell_type": "code",
      "execution_count": 42,
      "id": "e956249b",
      "metadata": {
        "execution": {
          "iopub.execute_input": "2023-07-10T05:29:59.285371Z",
          "iopub.status.busy": "2023-07-10T05:29:59.284605Z",
          "iopub.status.idle": "2023-07-10T05:29:59.289350Z",
          "shell.execute_reply": "2023-07-10T05:29:59.288619Z"
        },
        "papermill": {
          "duration": 0.049901,
          "end_time": "2023-07-10T05:29:59.291458",
          "exception": false,
          "start_time": "2023-07-10T05:29:59.241557",
          "status": "completed"
        },
        "tags": [],
        "id": "e956249b"
      },
      "outputs": [],
      "source": [
        "coef=abs(lr.coef_[0])"
      ]
    },
    {
      "cell_type": "markdown",
      "id": "d497de71",
      "metadata": {
        "papermill": {
          "duration": 0.038919,
          "end_time": "2023-07-10T05:29:59.369268",
          "exception": false,
          "start_time": "2023-07-10T05:29:59.330349",
          "status": "completed"
        },
        "tags": [],
        "id": "d497de71"
      },
      "source": [
        "## the coefficients represent the impact of each feature on the probability of the positive class, So larger the magnitude  of the coefficients  are more important the feature\n"
      ]
    },
    {
      "cell_type": "code",
      "execution_count": 43,
      "id": "49b53798",
      "metadata": {
        "execution": {
          "iopub.execute_input": "2023-07-10T05:29:59.451837Z",
          "iopub.status.busy": "2023-07-10T05:29:59.451370Z",
          "iopub.status.idle": "2023-07-10T05:29:59.916345Z",
          "shell.execute_reply": "2023-07-10T05:29:59.915565Z"
        },
        "papermill": {
          "duration": 0.50941,
          "end_time": "2023-07-10T05:29:59.918621",
          "exception": false,
          "start_time": "2023-07-10T05:29:59.409211",
          "status": "completed"
        },
        "tags": [],
        "colab": {
          "base_uri": "https://localhost:8080/",
          "height": 434
        },
        "id": "49b53798",
        "outputId": "6491744f-669d-4f6c-81d4-f1131b6e99df"
      },
      "outputs": [
        {
          "output_type": "display_data",
          "data": {
            "text/plain": [
              "<Figure size 640x480 with 1 Axes>"
            ],
            "image/png": "[encoded data removed]"
          },
          "metadata": {}
        }
      ],
      "source": [
        "plt.barh(X.columns, coef)\n",
        "plt.show()"
      ]
    },
    {
      "cell_type": "markdown",
      "id": "8cbdc5c7",
      "metadata": {
        "papermill": {
          "duration": 0.040477,
          "end_time": "2023-07-10T05:30:00.000116",
          "exception": false,
          "start_time": "2023-07-10T05:29:59.959639",
          "status": "completed"
        },
        "tags": [],
        "id": "8cbdc5c7"
      },
      "source": [
        "## We can select the features with the highest magnitude coefficients\n"
      ]
    },
    {
      "cell_type": "code",
      "execution_count": 44,
      "id": "f0ab96e0",
      "metadata": {
        "execution": {
          "iopub.execute_input": "2023-07-10T05:30:00.084632Z",
          "iopub.status.busy": "2023-07-10T05:30:00.084221Z",
          "iopub.status.idle": "2023-07-10T05:30:00.092064Z",
          "shell.execute_reply": "2023-07-10T05:30:00.091064Z"
        },
        "papermill": {
          "duration": 0.053171,
          "end_time": "2023-07-10T05:30:00.094230",
          "exception": false,
          "start_time": "2023-07-10T05:30:00.041059",
          "status": "completed"
        },
        "tags": [],
        "colab": {
          "base_uri": "https://localhost:8080/"
        },
        "id": "f0ab96e0",
        "outputId": "16d1ea18-0e0e-466c-abd6-3bf0fece45cd"
      },
      "outputs": [
        {
          "output_type": "execute_result",
          "data": {
            "text/plain": [
              "Index(['D2', 'MDVP:Shimmer(dB)', 'spread1', 'DFA', 'spread2'], dtype='object')"
            ]
          },
          "metadata": {},
          "execution_count": 44
        }
      ],
      "source": [
        "best_columns=X.columns[np.argsort(-1*coef)[0:5]]\n",
        "best_columns"
      ]
    },
    {
      "cell_type": "code",
      "execution_count": 45,
      "id": "36c60de5",
      "metadata": {
        "execution": {
          "iopub.execute_input": "2023-07-10T05:30:00.179783Z",
          "iopub.status.busy": "2023-07-10T05:30:00.178517Z",
          "iopub.status.idle": "2023-07-10T05:30:00.633257Z",
          "shell.execute_reply": "2023-07-10T05:30:00.632443Z"
        },
        "papermill": {
          "duration": 0.499925,
          "end_time": "2023-07-10T05:30:00.635520",
          "exception": false,
          "start_time": "2023-07-10T05:30:00.135595",
          "status": "completed"
        },
        "tags": [],
        "colab": {
          "base_uri": "https://localhost:8080/",
          "height": 782
        },
        "id": "36c60de5",
        "outputId": "dd0fe0ec-1568-4889-e35f-db8849bae86b"
      },
      "outputs": [
        {
          "output_type": "stream",
          "name": "stdout",
          "text": [
            "Confusion matrix, without normalization\n",
            "[[ 9  3]\n",
            " [ 6 41]]\n",
            "\n",
            "Classification Report:\n",
            "               precision    recall  f1-score   support\n",
            "\n",
            "           0       0.60      0.75      0.67        12\n",
            "           1       0.93      0.87      0.90        47\n",
            "\n",
            "    accuracy                           0.85        59\n",
            "   macro avg       0.77      0.81      0.78        59\n",
            "weighted avg       0.86      0.85      0.85        59\n",
            "\n",
            "\n",
            "Accuracy Score: 0.847457627118644\n"
          ]
        },
        {
          "output_type": "display_data",
          "data": {
            "text/plain": [
              "<Figure size 640x480 with 2 Axes>"
            ],
            "image/png": "[encoded data removed]"
          },
          "metadata": {}
        }
      ],
      "source": [
        "log_reg = LogisticRegression(max_iter=10000)\n",
        "log_reg.fit(X_train[best_columns], y_train)\n",
        "\n",
        "# Get the predicted probabilities for each class\n",
        "y_pred_proba = log_reg.predict_proba(X_test[best_columns])\n",
        "\n",
        "plot_confusion_matrix(confusion_matrix(y_test, y_pred),classes=[ \"Not Parkinson\", \" Parkinson\"],title='Confusion matrix')\n",
        "print(\"\\nClassification Report:\\n\", classification_report(y_test, y_pred))\n",
        "print(\"\\nAccuracy Score:\", accuracy_score(y_test, y_pred))"
      ]
    },
    {
      "cell_type": "markdown",
      "id": "2add4572",
      "metadata": {
        "papermill": {
          "duration": 0.041828,
          "end_time": "2023-07-10T05:30:00.719132",
          "exception": false,
          "start_time": "2023-07-10T05:30:00.677304",
          "status": "completed"
        },
        "tags": [],
        "id": "2add4572"
      },
      "source": [
        "### We see many of the  features are redundant, identifying and removing redundant features can potentially help in a few ways.\n",
        "\n",
        "### First, it can reduce the amount of data required for the model, which can reduce the cost of storing and processing data.\n",
        "\n",
        "### Second, it can improve the performance of the model, allowing it to make more accurate predictions with fewer resources. This can help reduce the cost of misclassifications or errors in the predictions.\n",
        "\n",
        "### Finally, it can also reduce the cost of model development and maintenance. Removing redundant features can simplify the model, making it easier to develop and maintain over time. It can also reduce the need for frequent updates and retraining, which can be costly in terms of time and resources\n"
      ]
    },
    {
      "cell_type": "markdown",
      "id": "71993695",
      "metadata": {
        "papermill": {
          "duration": 0.039602,
          "end_time": "2023-07-10T05:30:00.798291",
          "exception": false,
          "start_time": "2023-07-10T05:30:00.758689",
          "status": "completed"
        },
        "tags": [],
        "id": "71993695"
      },
      "source": [
        "# Support Vector Machines (SVM)\n",
        "\n",
        "\n",
        "### SVM stands for Support Vector Machines. It is a type of supervised machine learning algorithm used for classification. The algorithm identifies a hyperplane (or a set of hyperplanes) in an n-dimensional space that maximally separates the different classes in the dataset. The hyperplane that is selected is the one that has the maximum margin between the closest points of different classes, known as support vectors. SVM is particularly effective in high-dimensional datasets where other algorithms may have difficulty in identifying a clear boundary between the classes. SVM is also versatile in the type of kernel functions that can be used to transform the data into higher dimensions, such as linear, polynomial, and radial basis function (RBF) kernels.\n",
        "\n",
        "## Like Logistic Regression SVM is a linear classifier but there are some Pros and Cons\n",
        "\n",
        "## Pros of SVM over Logistic Regression\n",
        "<ul>\n",
        "<li>Effective in high dimensional spaces and with datasets that have a lot of features</li>\n",
        "<li>Can handle non-linearly separable data using kernel trick</li>\n",
        "<li>Robust to overfitting due to the regularization parameter</li>\n",
        "</ul>\n",
        "\n",
        "## Cons of SVM compared to Logistic Regression<b>\n",
        "<ul>\n",
        "<li>Can be computationally expensive to train, especially with large datasets</li>\n",
        "<li>Difficult to interpret the results and understand the impact of each feature on the model</li>\n",
        "<li>Requires careful selection of hyperparameters to achieve optimal performance</li>\n",
        "</ul>\n",
        "\n",
        "You can train a SVM just like any other model\n"
      ]
    },
    {
      "cell_type": "markdown",
      "id": "5dcb2513",
      "metadata": {
        "papermill": {
          "duration": 0.040889,
          "end_time": "2023-07-10T05:30:00.878457",
          "exception": false,
          "start_time": "2023-07-10T05:30:00.837568",
          "status": "completed"
        },
        "tags": [],
        "id": "5dcb2513"
      },
      "source": [
        "# Train and Test SVM Model using the SVC constructor and display the confusion matrix"
      ]
    },
    {
      "cell_type": "code",
      "execution_count": 46,
      "id": "21e7075a",
      "metadata": {
        "execution": {
          "iopub.execute_input": "2023-07-10T05:30:00.961835Z",
          "iopub.status.busy": "2023-07-10T05:30:00.961377Z",
          "iopub.status.idle": "2023-07-10T05:30:01.404968Z",
          "shell.execute_reply": "2023-07-10T05:30:01.403948Z"
        },
        "papermill": {
          "duration": 0.488253,
          "end_time": "2023-07-10T05:30:01.407295",
          "exception": false,
          "start_time": "2023-07-10T05:30:00.919042",
          "status": "completed"
        },
        "tags": [],
        "colab": {
          "base_uri": "https://localhost:8080/",
          "height": 556
        },
        "id": "21e7075a",
        "outputId": "0c505ad4-f9c9-4703-fb8b-4e6b94e298e3"
      },
      "outputs": [
        {
          "output_type": "stream",
          "name": "stdout",
          "text": [
            "Confusion matrix, without normalization\n",
            "[[ 4  8]\n",
            " [ 2 45]]\n"
          ]
        },
        {
          "output_type": "display_data",
          "data": {
            "text/plain": [
              "<Figure size 640x480 with 2 Axes>"
            ],
            "image/png": "[encoded data removed]"
          },
          "metadata": {}
        }
      ],
      "source": [
        "from sklearn.svm import SVC\n",
        "# Train the SVM classifier\n",
        "svm = SVC()\n",
        "svm.fit(X_train, y_train)\n",
        "\n",
        "# Make predictions on the test set\n",
        "y_hat = svm.predict(X_test)\n",
        "\n",
        "# confusion_matri\n",
        "plot_confusion_matrix(confusion_matrix(y_test, y_hat),classes=[ \"Not Parkinson\", \" Parkinson\"],title='Confusion matrix')"
      ]
    },
    {
      "cell_type": "markdown",
      "id": "6c0961fa",
      "metadata": {
        "papermill": {
          "duration": 0.042668,
          "end_time": "2023-07-10T05:30:01.493346",
          "exception": false,
          "start_time": "2023-07-10T05:30:01.450678",
          "status": "completed"
        },
        "tags": [],
        "id": "6c0961fa"
      },
      "source": [
        "## Here are the explanations for some of the important parameters:\n",
        "    \n",
        "## ```C:``` Regularization parameter. A smaller value of C creates a wider margin but may lead to more misclassifications, while a larger value of C creates a narrower margin but may lead to overfitting\n",
        "\n",
        "## ```kernel:``` Type of kernel function used to transform the data into a higher-dimensional space where it can be linearly separated. Common choices include linear, polynomial, and radial basis function (RBF) kernels\n",
        "\n",
        "## ```gamma:``` Kernel coefficient for RBF, polynomial, and sigmoid kernels. A smaller value of gamma creates a larger influence radius for the support vectors, while a larger value of gamma creates a smaller influence radius and can lead to overfitting\n",
        "\n",
        "## ```degree:``` Degree of the polynomial kernel function. Only used for polynomial kernel.    \n",
        "    \n"
      ]
    },
    {
      "cell_type": "markdown",
      "id": "a9677527",
      "metadata": {
        "papermill": {
          "duration": 0.040727,
          "end_time": "2023-07-10T05:30:01.576990",
          "exception": false,
          "start_time": "2023-07-10T05:30:01.536263",
          "status": "completed"
        },
        "tags": [],
        "id": "a9677527"
      },
      "source": [
        "## here is a dictionary for grid search with some of the specified parameters:\n"
      ]
    },
    {
      "cell_type": "code",
      "execution_count": 47,
      "id": "f1e9559c",
      "metadata": {
        "execution": {
          "iopub.execute_input": "2023-07-10T05:30:01.661645Z",
          "iopub.status.busy": "2023-07-10T05:30:01.660892Z",
          "iopub.status.idle": "2023-07-10T05:30:01.665746Z",
          "shell.execute_reply": "2023-07-10T05:30:01.664993Z"
        },
        "papermill": {
          "duration": 0.050209,
          "end_time": "2023-07-10T05:30:01.667796",
          "exception": false,
          "start_time": "2023-07-10T05:30:01.617587",
          "status": "completed"
        },
        "tags": [],
        "id": "f1e9559c"
      },
      "outputs": [],
      "source": [
        "param_grid = {\n",
        "    'C': [0.1, 1,],\n",
        "    'gamma': [0.1, 1, 10],\n",
        "\n",
        "}"
      ]
    },
    {
      "cell_type": "markdown",
      "id": "cbdaf975",
      "metadata": {
        "papermill": {
          "duration": 0.042643,
          "end_time": "2023-07-10T05:30:01.753767",
          "exception": false,
          "start_time": "2023-07-10T05:30:01.711124",
          "status": "completed"
        },
        "tags": [],
        "id": "cbdaf975"
      },
      "source": [
        "# Performing grid search on an SVM classifier with the specified hyperparameters and using recall as the scoring metric to find the best hyperparameters and the corresponding recall score:\n"
      ]
    },
    {
      "cell_type": "code",
      "execution_count": 48,
      "id": "05ea97e6",
      "metadata": {
        "execution": {
          "iopub.execute_input": "2023-07-10T05:30:01.842846Z",
          "iopub.status.busy": "2023-07-10T05:30:01.841984Z",
          "iopub.status.idle": "2023-07-10T05:30:01.946719Z",
          "shell.execute_reply": "2023-07-10T05:30:01.945406Z"
        },
        "papermill": {
          "duration": 0.152339,
          "end_time": "2023-07-10T05:30:01.949323",
          "exception": false,
          "start_time": "2023-07-10T05:30:01.796984",
          "status": "completed"
        },
        "tags": [],
        "colab": {
          "base_uri": "https://localhost:8080/"
        },
        "id": "05ea97e6",
        "outputId": "1a4bfba2-4474-4fca-b2d3-e2807c240449"
      },
      "outputs": [
        {
          "output_type": "stream",
          "name": "stdout",
          "text": [
            "Best hyperparameters:  {'C': 0.1, 'gamma': 0.1}\n",
            "Best recall score:  1.0\n"
          ]
        }
      ],
      "source": [
        "from sklearn.svm import SVC\n",
        "# Train the SVM classifier\n",
        "svm = SVC()\n",
        "# Create a GridSearchCV object\n",
        "grid_search = GridSearchCV(svm, param_grid, scoring='recall', cv=2)\n",
        "\n",
        "# Fit the GridSearchCV object to the training data\n",
        "grid_search.fit(X_train, y_train)\n",
        "\n",
        "# Print the best hyperparameters and the corresponding recall score\n",
        "print(\"Best hyperparameters: \", grid_search.best_params_)\n",
        "print(\"Best recall score: \", grid_search.best_score_)\n"
      ]
    },
    {
      "cell_type": "markdown",
      "id": "14804095",
      "metadata": {
        "papermill": {
          "duration": 0.043374,
          "end_time": "2023-07-10T05:30:02.036002",
          "exception": false,
          "start_time": "2023-07-10T05:30:01.992628",
          "status": "completed"
        },
        "tags": [],
        "id": "14804095"
      },
      "source": [
        "#  Random Forest Model\n",
        "\n"
      ]
    },
    {
      "cell_type": "markdown",
      "id": "9357eec8",
      "metadata": {
        "papermill": {
          "duration": 0.042751,
          "end_time": "2023-07-10T05:30:02.122250",
          "exception": false,
          "start_time": "2023-07-10T05:30:02.079499",
          "status": "completed"
        },
        "tags": [],
        "id": "9357eec8"
      },
      "source": [
        "## Random Forest is a good choice for various machine learning tasks due to its high accuracy in classifying complex data patterns. The ability to interpret the results of Random Forest models also makes it easier to validate and understand the decisions it makes.\n"
      ]
    },
    {
      "cell_type": "code",
      "execution_count": 49,
      "id": "877d9fdc",
      "metadata": {
        "execution": {
          "iopub.execute_input": "2023-07-10T05:30:02.210894Z",
          "iopub.status.busy": "2023-07-10T05:30:02.210124Z",
          "iopub.status.idle": "2023-07-10T05:30:02.574939Z",
          "shell.execute_reply": "2023-07-10T05:30:02.573696Z"
        },
        "papermill": {
          "duration": 0.411641,
          "end_time": "2023-07-10T05:30:02.577354",
          "exception": false,
          "start_time": "2023-07-10T05:30:02.165713",
          "status": "completed"
        },
        "tags": [],
        "colab": {
          "base_uri": "https://localhost:8080/"
        },
        "id": "877d9fdc",
        "outputId": "0774004b-9f12-41f6-86be-dd0f23384986"
      },
      "outputs": [
        {
          "output_type": "stream",
          "name": "stdout",
          "text": [
            "Accuracy: 89.83%\n"
          ]
        }
      ],
      "source": [
        "from sklearn.ensemble import RandomForestClassifier\n",
        "# Create a Random Forest model\n",
        "rf = RandomForestClassifier(random_state=123)\n",
        "\n",
        "# Train the model on the training data\n",
        "rf.fit(X_train, y_train)\n",
        "\n",
        "# Make predictions on the test data\n",
        "y_pred = rf.predict(X_test)\n",
        "\n",
        "# Evaluate the model's performance\n",
        "accuracy = accuracy_score(y_test, y_pred)\n",
        "print(\"Accuracy: {:.2f}%\".format(accuracy * 100))"
      ]
    },
    {
      "cell_type": "markdown",
      "id": "eb059ade",
      "metadata": {
        "papermill": {
          "duration": 0.043432,
          "end_time": "2023-07-10T05:30:02.664341",
          "exception": false,
          "start_time": "2023-07-10T05:30:02.620909",
          "status": "completed"
        },
        "tags": [],
        "id": "eb059ade"
      },
      "source": [
        "# Perform grid search for RandomForest to tune the parameters\n"
      ]
    },
    {
      "cell_type": "code",
      "execution_count": 50,
      "id": "2208d813",
      "metadata": {
        "execution": {
          "iopub.execute_input": "2023-07-10T05:30:02.754255Z",
          "iopub.status.busy": "2023-07-10T05:30:02.753545Z",
          "iopub.status.idle": "2023-07-10T05:30:27.535098Z",
          "shell.execute_reply": "2023-07-10T05:30:27.533735Z"
        },
        "papermill": {
          "duration": 24.829932,
          "end_time": "2023-07-10T05:30:27.537495",
          "exception": false,
          "start_time": "2023-07-10T05:30:02.707563",
          "status": "completed"
        },
        "tags": [],
        "colab": {
          "base_uri": "https://localhost:8080/"
        },
        "id": "2208d813",
        "outputId": "91b3a6e4-a1e3-47c7-a3a1-4f3f4e2fd79b"
      },
      "outputs": [
        {
          "output_type": "stream",
          "name": "stdout",
          "text": [
            "Best parameters: {'max_depth': 5, 'max_features': 'sqrt', 'n_estimators': 100}\n"
          ]
        }
      ],
      "source": [
        "from sklearn.model_selection import GridSearchCV\n",
        "\n",
        "# Define the parameter grid to search over\n",
        "param_grid = {\n",
        "    'n_estimators': [50, 100, 200],\n",
        "    'max_depth': [5, 10, 15],\n",
        "    'max_features': ['sqrt', 'log2']\n",
        "}\n",
        "\n",
        "# Create a random forest classifier\n",
        "rf = RandomForestClassifier(random_state=42)\n",
        "\n",
        "# Create the GridSearchCV object\n",
        "grid_search = GridSearchCV(estimator=rf, param_grid=param_grid, cv=5)\n",
        "\n",
        "# Fit the GridSearchCV object to the data\n",
        "grid_search.fit(X_train, y_train)\n",
        "rf.fit(X_train, y_train)\n",
        "\n",
        "# Print the best hyperparameters\n",
        "print(\"Best parameters:\", grid_search.best_params_)\n",
        "\n",
        "# Get the best model\n",
        "best_model = grid_search.best_estimator_"
      ]
    },
    {
      "cell_type": "code",
      "execution_count": 51,
      "id": "9fb5dce5",
      "metadata": {
        "execution": {
          "iopub.execute_input": "2023-07-10T05:30:27.629999Z",
          "iopub.status.busy": "2023-07-10T05:30:27.629230Z",
          "iopub.status.idle": "2023-07-10T05:30:28.239490Z",
          "shell.execute_reply": "2023-07-10T05:30:28.238366Z"
        },
        "papermill": {
          "duration": 0.659007,
          "end_time": "2023-07-10T05:30:28.242362",
          "exception": false,
          "start_time": "2023-07-10T05:30:27.583355",
          "status": "completed"
        },
        "tags": [],
        "colab": {
          "base_uri": "https://localhost:8080/",
          "height": 451
        },
        "id": "9fb5dce5",
        "outputId": "012b0baa-c5cf-4fc7-ad2b-8cea2aeacb74"
      },
      "outputs": [
        {
          "output_type": "execute_result",
          "data": {
            "text/plain": [
              "<Axes: >"
            ]
          },
          "metadata": {},
          "execution_count": 51
        },
        {
          "output_type": "display_data",
          "data": {
            "text/plain": [
              "<Figure size 640x480 with 1 Axes>"
            ],
            "image/png": "[encoded data removed]"
          },
          "metadata": {}
        }
      ],
      "source": [
        "# plot the important features\n",
        "feat_importances = pd.Series(rf.feature_importances_, index=X.columns)\n",
        "feat_importances.sort_values().plot(kind='barh',color=['g','b'])"
      ]
    },
    {
      "cell_type": "code",
      "source": [
        "input_data = (197.07600,206.89600,192.05500,0.00289,0.00001,0.00166,0.00168,0.00498,0.01098,0.09700,0.00563,0.00680,0.00802,0.01689,0.00339,26.77500,0.422229,0.741367,-7.348300,0.177551,1.743867,0.085569)\n",
        "\n",
        "# changing input data to a numpy array\n",
        "input_data_as_numpy_array = np.asarray(input_data)\n",
        "\n",
        "# reshape the numpy array\n",
        "input_data_reshaped = input_data_as_numpy_array.reshape(1,-1)\n",
        "\n",
        "prediction = rf.predict(input_data_reshaped)\n",
        "print(prediction)\n",
        "\n",
        "\n",
        "if (prediction[0] == 0):\n",
        "  print(\"The Person does not have Parkinsons Disease\")\n",
        "\n",
        "else:\n",
        "  print(\"The Person has Parkinsons\")"
      ],
      "metadata": {
        "colab": {
          "base_uri": "https://localhost:8080/"
        },
        "id": "8V8jjl3c7JQT",
        "outputId": "a50b5178-24f6-4ee7-98bd-4e8ba3ec78a3"
      },
      "id": "8V8jjl3c7JQT",
      "execution_count": 52,
      "outputs": [
        {
          "output_type": "stream",
          "name": "stdout",
          "text": [
            "[0]\n",
            "The Person does not have Parkinsons Disease\n"
          ]
        }
      ]
    },
    {
      "cell_type": "markdown",
      "id": "1f7e8035",
      "metadata": {
        "papermill": {
          "duration": 0.043939,
          "end_time": "2023-07-10T05:30:28.330705",
          "exception": false,
          "start_time": "2023-07-10T05:30:28.286766",
          "status": "completed"
        },
        "tags": [],
        "id": "1f7e8035"
      },
      "source": [
        "### To save the trained model we utilize liberary `pickle`\n"
      ]
    },
    {
      "cell_type": "code",
      "execution_count": 53,
      "id": "e1aeb838",
      "metadata": {
        "execution": {
          "iopub.execute_input": "2023-07-10T05:30:28.422982Z",
          "iopub.status.busy": "2023-07-10T05:30:28.422541Z",
          "iopub.status.idle": "2023-07-10T05:30:28.434442Z",
          "shell.execute_reply": "2023-07-10T05:30:28.433444Z"
        },
        "papermill": {
          "duration": 0.06122,
          "end_time": "2023-07-10T05:30:28.436982",
          "exception": false,
          "start_time": "2023-07-10T05:30:28.375762",
          "status": "completed"
        },
        "tags": [],
        "id": "e1aeb838"
      },
      "outputs": [],
      "source": [
        "import pickle\n"
      ]
    },
    {
      "cell_type": "code",
      "source": [
        "filename = 'parkinsons_model.sav'\n",
        "pickle.dump(rf, open(filename, 'wb'))"
      ],
      "metadata": {
        "id": "xqM7cH_u7qh7"
      },
      "id": "xqM7cH_u7qh7",
      "execution_count": 54,
      "outputs": []
    },
    {
      "cell_type": "code",
      "source": [
        "# loading the saved model\n",
        "loaded_model = pickle.load(open('parkinsons_model.sav', 'rb'))"
      ],
      "metadata": {
        "id": "6GYPvuvL7tWF"
      },
      "id": "6GYPvuvL7tWF",
      "execution_count": 55,
      "outputs": []
    },
    {
      "cell_type": "code",
      "source": [
        "for column in X.columns:\n",
        "  print(column)"
      ],
      "metadata": {
        "colab": {
          "base_uri": "https://localhost:8080/"
        },
        "id": "odqd6XKd7xUO",
        "outputId": "cf938c06-6912-4dd9-c470-2dfb4807df24"
      },
      "id": "odqd6XKd7xUO",
      "execution_count": 56,
      "outputs": [
        {
          "output_type": "stream",
          "name": "stdout",
          "text": [
            "MDVP:Fo(Hz)\n",
            "MDVP:Fhi(Hz)\n",
            "MDVP:Flo(Hz)\n",
            "MDVP:Jitter(%)\n",
            "MDVP:Jitter(Abs)\n",
            "MDVP:RAP\n",
            "MDVP:PPQ\n",
            "Jitter:DDP\n",
            "MDVP:Shimmer\n",
            "MDVP:Shimmer(dB)\n",
            "Shimmer:APQ3\n",
            "Shimmer:APQ5\n",
            "MDVP:APQ\n",
            "Shimmer:DDA\n",
            "NHR\n",
            "HNR\n",
            "RPDE\n",
            "DFA\n",
            "spread1\n",
            "spread2\n",
            "D2\n",
            "PPE\n"
          ]
        }
      ]
    },
    {
      "cell_type": "code",
      "source": [],
      "metadata": {
        "id": "u-LksJQi70W4"
      },
      "id": "u-LksJQi70W4",
      "execution_count": null,
      "outputs": []
    }
  ],
  "metadata": {
    "kernelspec": {
      "display_name": "Python 3",
      "language": "python",
      "name": "python3"
    },
    "language_info": {
      "codemirror_mode": {
        "name": "ipython",
        "version": 3
      },
      "file_extension": ".py",
      "mimetype": "text/x-python",
      "name": "python",
      "nbconvert_exporter": "python",
      "pygments_lexer": "ipython3",
      "version": "3.10.10"
    },
    "papermill": {
      "default_parameters": {},
      "duration": 79.622057,
      "end_time": "2023-07-10T05:30:35.629173",
      "environment_variables": {},
      "exception": null,
      "input_path": "__notebook__.ipynb",
      "output_path": "__notebook__.ipynb",
      "parameters": {},
      "start_time": "2023-07-10T05:29:16.007116",
      "version": "2.4.0"
    },
    "colab": {
      "provenance": []
    }
  },
  "nbformat": 4,
  "nbformat_minor": 5
}